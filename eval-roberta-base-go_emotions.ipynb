{
 "cells": [
  {
   "cell_type": "markdown",
   "metadata": {},
   "source": [
    "## Evaluating the `roberta-base-go_emotions` model"
   ]
  },
  {
   "cell_type": "markdown",
   "metadata": {},
   "source": [
    "[![Open In Colab](https://colab.research.google.com/assets/colab-badge.svg)](https://colab.research.google.com/github/samlowe/go_emotions-dataset/blob/main/eval-roberta-base-go_emotions.ipynb)"
   ]
  },
  {
   "cell_type": "markdown",
   "metadata": {},
   "source": [
    "Source: https://github.com/samlowe/go_emotions-dataset/blob/main/eval-roberta-base-go_emotions.ipynb"
   ]
  },
  {
   "cell_type": "markdown",
   "metadata": {},
   "source": [
    "### Init"
   ]
  },
  {
   "cell_type": "code",
   "execution_count": 48,
   "metadata": {},
   "outputs": [],
   "source": [
    "import datasets\n",
    "from transformers import pipeline\n",
    "import numpy as np\n",
    "import pandas as pd\n",
    "import matplotlib.pyplot as plt\n",
    "from tqdm import tqdm\n",
    "import torch\n",
    "from src.models.TRANSFORMER import TransformerClassifier\n",
    "from src.models.LSTM import LSTMClassifier\n",
    "from transformers import BertModel\n",
    "from src.local_datasets.goemotions import GoEmotionsDataset\n",
    "from src.local_datasets.yelp import YelpDataset\n",
    "from torch.utils.data import DataLoader\n",
    "from torch.nn import functional as F\n"
   ]
  },
  {
   "cell_type": "markdown",
   "metadata": {},
   "source": [
    "### Load the dataset"
   ]
  },
  {
   "cell_type": "markdown",
   "metadata": {},
   "source": [
    "We just want the dataset test split here for evaluation"
   ]
  },
  {
   "cell_type": "code",
   "execution_count": 49,
   "metadata": {},
   "outputs": [
    {
     "name": "stdout",
     "output_type": "stream",
     "text": [
      "['text', 'labels', 'id', 'input_ids', 'token_type_ids', 'attention_mask']\n"
     ]
    }
   ],
   "source": [
    "split_name = \"test\"\n",
    "\n",
    "goemotions = datasets.load_from_disk(\"data/goemotion_tokenized.hf\")\n",
    "print(goemotions[split_name].column_names)"
   ]
  },
  {
   "cell_type": "code",
   "execution_count": 50,
   "metadata": {},
   "outputs": [
    {
     "name": "stdout",
     "output_type": "stream",
     "text": [
      "{0: 'admiration', 1: 'amusement', 2: 'anger', 3: 'annoyance', 4: 'approval', 5: 'caring', 6: 'confusion', 7: 'curiosity', 8: 'desire', 9: 'disappointment', 10: 'disapproval', 11: 'disgust', 12: 'embarrassment', 13: 'excitement', 14: 'fear', 15: 'gratitude', 16: 'grief', 17: 'joy', 18: 'love', 19: 'nervousness', 20: 'optimism', 21: 'pride', 22: 'realization', 23: 'relief', 24: 'remorse', 25: 'sadness', 26: 'surprise', 27: 'neutral'}\n",
      "I’m really sorry about your situation :( Although I love the names Sapphira, Cirilla, and Scarlett! admiration\n"
     ]
    }
   ],
   "source": [
    "label_names = goemotions[split_name].features[\"labels\"].feature.names\n",
    "text = goemotions[split_name]['text']\n",
    "print({i: l for i, l in enumerate(label_names)})\n",
    "print(text[0], label_names[0])"
   ]
  },
  {
   "cell_type": "markdown",
   "metadata": {},
   "source": [
    "Load into a `y_target` stucture of arrays by label (since we wish to evaluate per label for a multi-label, multi-class dataset like this)"
   ]
  },
  {
   "cell_type": "code",
   "execution_count": 51,
   "metadata": {},
   "outputs": [
    {
     "name": "stdout",
     "output_type": "stream",
     "text": [
      "[[0 0 0 0 0 0 0 0 0 0 0 0 0 0 0 0 0 0 0 0 0 0 0 0 0 1 0 0]\n",
      " [1 0 0 0 0 0 0 0 0 0 0 0 0 0 0 0 0 0 0 0 0 0 0 0 0 0 0 0]\n",
      " [0 0 0 0 0 0 0 0 0 0 0 0 0 1 0 0 0 0 0 0 0 0 0 0 0 0 0 0]]\n"
     ]
    }
   ],
   "source": [
    "num_items, num_labels = len(goemotions[split_name]), len(label_names)\n",
    "y_targets_all = np.zeros((num_items, num_labels), dtype=int)\n",
    "for i, labels_indices in enumerate(goemotions[split_name][\"labels\"]):\n",
    "    for label_index in labels_indices:\n",
    "        y_targets_all[i, label_index] = 1\n",
    "\n",
    "print(y_targets_all[0:3])"
   ]
  },
  {
   "cell_type": "markdown",
   "metadata": {},
   "source": [
    "### Load the model and run it"
   ]
  },
  {
   "cell_type": "markdown",
   "metadata": {},
   "source": [
    "Loading in a multi-label, multi-class classifier model based on Roberta-base"
   ]
  },
  {
   "cell_type": "code",
   "execution_count": 52,
   "metadata": {},
   "outputs": [
    {
     "data": {
      "text/plain": [
       "<All keys matched successfully>"
      ]
     },
     "execution_count": 52,
     "metadata": {},
     "output_type": "execute_result"
    }
   ],
   "source": [
    "999"
   ]
  },
  {
   "cell_type": "markdown",
   "metadata": {},
   "source": [
    "Very simple to then run the pipeline on the dataset test split.\n",
    "- c.5k items so can be run on a decent CPU in a few minutes (E.g. 3.5 mins on a 11th gen i7 laptop)\n",
    "- (will take signifcantly longer on a free Colab instance's 2 core CPU)\n",
    "- or of course via a GPU in seconds. "
   ]
  },
  {
   "cell_type": "code",
   "execution_count": 53,
   "metadata": {},
   "outputs": [
    {
     "name": "stdout",
     "output_type": "stream",
     "text": [
      "I’m really sorry about your situation :( Although I love the names Sapphira, Cirilla, and Scarlett! True:  sadness Pred:  sadness\n",
      "It's wonderful because it's awful. At not with. True:  admiration Pred:  disgust\n",
      "Kings fan here, good luck to you guys! Will be an interesting game to watch!  True:  excitement Pred:  admiration\n",
      "I didn't know that, thank you for teaching me something today! True:  gratitude Pred:  gratitude\n"
     ]
    }
   ],
   "source": [
    "goemotions_pytorch = GoEmotionsDataset(split=split_name)\n",
    "dataloaders = torch.utils.data.DataLoader(goemotions_pytorch, batch_size=1, shuffle=False)\n",
    "for i, (inputs, targets,_) in enumerate(dataloaders):\n",
    "    print(text[i],\"True: \", label_names[targets], \"Pred: \", label_names[torch.argmax(lstm_goem_model(inputs))])\n",
    "    if i == 3:\n",
    "        break"
   ]
  },
  {
   "cell_type": "code",
   "execution_count": 54,
   "metadata": {},
   "outputs": [
    {
     "name": "stderr",
     "output_type": "stream",
     "text": [
      "100%|██████████| 22/22 [02:17<00:00,  6.27s/it]"
     ]
    },
    {
     "name": "stdout",
     "output_type": "stream",
     "text": [
      "0.50\n"
     ]
    },
    {
     "name": "stderr",
     "output_type": "stream",
     "text": [
      "\n"
     ]
    }
   ],
   "source": [
    "dataloaders = torch.utils.data.DataLoader(goemotions_pytorch, batch_size=256, shuffle=False)\n",
    "model = lstm_goem_model\n",
    "model.eval()\n",
    "test_loss = 0\n",
    "correct_predictions = 0\n",
    "total_predictions = 0\n",
    "model_outputs = []\n",
    "for input, labels, masks in tqdm(dataloaders):\n",
    "    output = model(input)\n",
    "    for outputi in output:\n",
    "        model_outputs.append(F.softmax(outputi, dim=0).detach().numpy())\n",
    "    correct_predictions += (output.argmax(dim=1) == labels).sum().item()\n",
    "    total_predictions += labels.size(0)\n",
    "accuracy = correct_predictions / total_predictions\n",
    "print(f\"{accuracy:0.2f}\")"
   ]
  },
  {
   "cell_type": "markdown",
   "metadata": {},
   "source": [
    "The model gave us floating point outputs for each label for each item, as a list of dicts. We need to arrange these into an array to be able to easily compare them with the dataset values. These values are sometimes known as probabilities (or `probas` for short) - but note, although these values are quantitative and can be compared to an extent (as we will), they are not really probabilities in any real statistical sense. \n",
    "\n",
    "We still need to convert these to binary prediction (`preds`) to be able to compare them to the `y_target` values from the dataset, but since the best threshold value to use to convert them is not yet known, we'll keep the float values."
   ]
  },
  {
   "cell_type": "code",
   "execution_count": 55,
   "metadata": {},
   "outputs": [
    {
     "name": "stdout",
     "output_type": "stream",
     "text": [
      "[1.3424648e-03 3.8444714e-04 2.3703766e-05 4.8323687e-05 1.0398780e-03\n",
      " 1.4412594e-02 6.7765279e-05 6.5480293e-05 3.9316792e-04 2.8896369e-03\n",
      " 3.1785552e-05 7.3400290e-05 6.0292613e-04 4.3349515e-04 6.3624509e-05\n",
      " 4.7470850e-05 3.3357437e-04 3.8942022e-03 4.7770545e-01 3.6657276e-04\n",
      " 8.9594025e-05 1.3367497e-06 2.2599563e-02 3.4855805e-07 1.8180577e-01\n",
      " 2.9008073e-01 6.6589011e-04 5.3687254e-04]\n"
     ]
    }
   ],
   "source": [
    "print(model_outputs[0])\n",
    "y_probas_all = np.zeros((num_items, num_labels), dtype=float)\n",
    "for i, item_probas in enumerate(model_outputs):\n",
    "    for item_proba in item_probas:\n",
    "        label_index, score = np.argmax(item_probas), item_proba\n",
    "        y_probas_all[i, label_index] = score"
   ]
  },
  {
   "cell_type": "code",
   "execution_count": 56,
   "metadata": {},
   "outputs": [
    {
     "name": "stdout",
     "output_type": "stream",
     "text": [
      "{'text': 'I dunno. Backhanded compliments in girl world are like professional sports.', 'labels': [27], 'id': 'eevddj9', 'input_ids': [101, 1045, 14145, 2080, 1012, 2067, 11774, 2098, 19394, 2015, 1999, 2611, 2088, 2024, 2066, 2658, 2998, 1012, 102, 0, 0, 0, 0, 0, 0, 0, 0, 0, 0, 0, 0, 0, 0, 0, 0, 0, 0, 0, 0, 0, 0, 0, 0, 0, 0, 0, 0, 0, 0, 0, 0, 0, 0, 0, 0, 0, 0, 0, 0, 0, 0, 0, 0, 0, 0, 0, 0, 0, 0, 0, 0, 0, 0, 0, 0, 0, 0, 0, 0, 0, 0, 0, 0, 0, 0, 0, 0, 0, 0, 0, 0, 0, 0, 0, 0, 0, 0, 0, 0, 0, 0, 0, 0, 0, 0, 0, 0, 0, 0, 0, 0, 0, 0, 0, 0, 0, 0, 0, 0, 0, 0, 0, 0, 0, 0, 0, 0, 0], 'token_type_ids': [0, 0, 0, 0, 0, 0, 0, 0, 0, 0, 0, 0, 0, 0, 0, 0, 0, 0, 0, 0, 0, 0, 0, 0, 0, 0, 0, 0, 0, 0, 0, 0, 0, 0, 0, 0, 0, 0, 0, 0, 0, 0, 0, 0, 0, 0, 0, 0, 0, 0, 0, 0, 0, 0, 0, 0, 0, 0, 0, 0, 0, 0, 0, 0, 0, 0, 0, 0, 0, 0, 0, 0, 0, 0, 0, 0, 0, 0, 0, 0, 0, 0, 0, 0, 0, 0, 0, 0, 0, 0, 0, 0, 0, 0, 0, 0, 0, 0, 0, 0, 0, 0, 0, 0, 0, 0, 0, 0, 0, 0, 0, 0, 0, 0, 0, 0, 0, 0, 0, 0, 0, 0, 0, 0, 0, 0, 0, 0], 'attention_mask': [1, 1, 1, 1, 1, 1, 1, 1, 1, 1, 1, 1, 1, 1, 1, 1, 1, 1, 1, 0, 0, 0, 0, 0, 0, 0, 0, 0, 0, 0, 0, 0, 0, 0, 0, 0, 0, 0, 0, 0, 0, 0, 0, 0, 0, 0, 0, 0, 0, 0, 0, 0, 0, 0, 0, 0, 0, 0, 0, 0, 0, 0, 0, 0, 0, 0, 0, 0, 0, 0, 0, 0, 0, 0, 0, 0, 0, 0, 0, 0, 0, 0, 0, 0, 0, 0, 0, 0, 0, 0, 0, 0, 0, 0, 0, 0, 0, 0, 0, 0, 0, 0, 0, 0, 0, 0, 0, 0, 0, 0, 0, 0, 0, 0, 0, 0, 0, 0, 0, 0, 0, 0, 0, 0, 0, 0, 0, 0]}\n",
      "[1.0, 0.0, 0.0, 0.0, 0.0, 0.0, 0.0, 0.0, 0.0, 0.0, 0.0, 0.0, 0.0, 0.0, 0.0, 0.0, 0.0, 0.0, 0.0, 0.0, 0.0, 0.0, 0.0, 0.0, 0.0, 0.0, 0.0, 0.0]\n",
      "Top label proba is label number 0 (admiration): 0.9962131977081299\n"
     ]
    }
   ],
   "source": [
    "model_outputs = np.array(model_outputs).reshape(-1, 28)\n",
    "i = 232\n",
    "print(goemotions[split_name][i])\n",
    "print(np.round(model_outputs[i]).tolist())\n",
    "top = np.argmax(model_outputs[i])\n",
    "print(f\"Top label proba is label number {top} ({label_names[top]}): {model_outputs[i][top]}\")"
   ]
  },
  {
   "cell_type": "markdown",
   "metadata": {},
   "source": [
    "### Evalutation"
   ]
  },
  {
   "cell_type": "markdown",
   "metadata": {},
   "source": [
    "We'll use good old SKLearn for evaluation here because it's super well known and simple. You could use something else, such as Huggingface Evaluate if you prefer."
   ]
  },
  {
   "cell_type": "code",
   "execution_count": 57,
   "metadata": {},
   "outputs": [],
   "source": [
    "from sklearn import metrics\n",
    "from sklearn.metrics import roc_auc_score\n",
    "from sklearn.metrics import confusion_matrix, ConfusionMatrixDisplay"
   ]
  },
  {
   "cell_type": "code",
   "execution_count": 58,
   "metadata": {},
   "outputs": [
    {
     "data": {
      "text/plain": [
       "<sklearn.metrics._plot.confusion_matrix.ConfusionMatrixDisplay at 0x7f5086f59f10>"
      ]
     },
     "execution_count": 58,
     "metadata": {},
     "output_type": "execute_result"
    },
    {
     "data": {
      "image/png": "[encoded data removed]",
      "text/plain": [
       "<Figure size 640x480 with 2 Axes>"
      ]
     },
     "metadata": {},
     "output_type": "display_data"
    }
   ],
   "source": [
    "preds = np.argmax(model_outputs, axis=1)\n",
    "targets = np.argmax(y_targets_all, axis=1)\n",
    "cm = confusion_matrix(targets, preds)\n",
    "disp = ConfusionMatrixDisplay(confusion_matrix=cm, display_labels=label_names)\n",
    "disp.plot(xticks_rotation='vertical', values_format='d', include_values=False)"
   ]
  },
  {
   "cell_type": "code",
   "execution_count": 59,
   "metadata": {},
   "outputs": [
    {
     "name": "stdout",
     "output_type": "stream",
     "text": [
      "AUC: 0.49460616234247323\n",
      "                precision    recall  f1-score   support\n",
      "\n",
      "    admiration       0.10      0.09      0.09       504\n",
      "     amusement       0.07      0.08      0.08       264\n",
      "         anger       0.07      0.03      0.04       198\n",
      "     annoyance       0.04      0.02      0.03       320\n",
      "      approval       0.08      0.04      0.05       351\n",
      "        caring       0.02      0.01      0.01       135\n",
      "     confusion       0.05      0.03      0.03       153\n",
      "     curiosity       0.07      0.05      0.06       284\n",
      "        desire       0.02      0.01      0.01        83\n",
      "disappointment       0.05      0.01      0.02       151\n",
      "   disapproval       0.03      0.02      0.02       267\n",
      "       disgust       0.06      0.02      0.03       123\n",
      " embarrassment       0.00      0.00      0.00        37\n",
      "    excitement       0.04      0.02      0.03       103\n",
      "          fear       0.02      0.01      0.02        78\n",
      "     gratitude       0.05      0.05      0.05       352\n",
      "         grief       0.00      0.00      0.00         6\n",
      "           joy       0.03      0.02      0.03       161\n",
      "          love       0.05      0.05      0.05       238\n",
      "   nervousness       0.00      0.00      0.00        23\n",
      "      optimism       0.03      0.02      0.02       186\n",
      "         pride       0.00      0.00      0.00        16\n",
      "   realization       0.00      0.00      0.00       145\n",
      "        relief       0.00      0.00      0.00        11\n",
      "       remorse       0.00      0.00      0.00        56\n",
      "       sadness       0.00      0.00      0.00       156\n",
      "      surprise       0.03      0.02      0.03       141\n",
      "       neutral       0.32      0.36      0.34      1787\n",
      "\n",
      "     micro avg       0.16      0.13      0.14      6329\n",
      "     macro avg       0.04      0.03      0.04      6329\n",
      "  weighted avg       0.13      0.13      0.12      6329\n",
      "   samples avg       0.15      0.14      0.14      6329\n",
      "\n"
     ]
    },
    {
     "name": "stderr",
     "output_type": "stream",
     "text": [
      "/home/mhassa2s/miniconda3/envs/nlp-proj/lib/python3.11/site-packages/sklearn/metrics/_classification.py:1517: UndefinedMetricWarning: Precision is ill-defined and being set to 0.0 in labels with no predicted samples. Use `zero_division` parameter to control this behavior.\n",
      "  _warn_prf(average, modifier, f\"{metric.capitalize()} is\", len(result))\n",
      "/home/mhassa2s/miniconda3/envs/nlp-proj/lib/python3.11/site-packages/sklearn/metrics/_classification.py:1517: UndefinedMetricWarning: Precision is ill-defined and being set to 0.0 in samples with no predicted labels. Use `zero_division` parameter to control this behavior.\n",
      "  _warn_prf(average, modifier, f\"{metric.capitalize()} is\", len(result))\n"
     ]
    }
   ],
   "source": [
    "auc = roc_auc_score(y_targets_all, model_outputs, average='macro')\n",
    "print(f\"AUC: {auc}\")\n",
    "report = metrics.classification_report(y_targets_all, model_outputs > 0.5, target_names=label_names)\n",
    "print(report)"
   ]
  },
  {
   "cell_type": "markdown",
   "metadata": {},
   "source": [
    "We can see the metrics at a threshold of 0.5 (which intuitively seems like the right one to use).\n",
    "\n",
    "Should ignore accuracy because it isn't really helpful when applied per item for a multi-label dataset E.g. if there are 3 positive labels for a particular item but the model only gets 2 of them, accuracy will treat that as a 0/fail, not a partial success."
   ]
  },
  {
   "cell_type": "code",
   "execution_count": 60,
   "metadata": {},
   "outputs": [
    {
     "name": "stdout",
     "output_type": "stream",
     "text": [
      "Overall (macro)\n",
      "===============\n",
      "Accuracy: 0.113\n",
      "Precision: 0.023\n",
      "Recall: 0.014\n",
      "F1: 0.013\n"
     ]
    }
   ],
   "source": [
    "threshold = 0.3\n",
    "y_preds_all = y_probas_all > threshold\n",
    "\n",
    "print(\"Overall (macro)\")\n",
    "print(\"===============\")\n",
    "print(f\"Accuracy: {metrics.accuracy_score(y_targets_all, y_preds_all):.3f}\")\n",
    "print(f\"Precision: {metrics.precision_score(y_targets_all, y_preds_all, average='macro', zero_division=0):.3f}\")\n",
    "print(f\"Recall: {metrics.recall_score(y_targets_all, y_preds_all, average='macro', zero_division=0):.3f}\")\n",
    "print(f\"F1: {metrics.f1_score(y_targets_all, y_preds_all, average='macro', zero_division=0):.3f}\")"
   ]
  },
  {
   "cell_type": "markdown",
   "metadata": {},
   "source": [
    "And now per label (which is more meaningful for a multi-label, multiclass dataset such as this)\n",
    "\n",
    "Note the support for certain labels is tiny - grief has 6 positives in the dataset test split (out of c5.4k items). So measurement of the test set for such labels is meaningless, and anyway (given there is a similarly tiny number in the training split) unsurprisingly the model fails to predict positives for such labels since it's been trained on overwhelmling negative examples.\n",
    "\n",
    "We really should prune any labels with less than (for example) 50 positive examples in the training split (which is significantly bigger than the test split we are looking at here), or we should augment the data synthetically for these tiny/scarce labels to allow the model to learn these signals.\n",
    "\n",
    "However, they have been left in here for visibility."
   ]
  },
  {
   "cell_type": "code",
   "execution_count": 61,
   "metadata": {},
   "outputs": [],
   "source": [
    "def calc_label_metrics(label, y_targets, y_preds, threshold):\n",
    "    return {\n",
    "        \"label\": label,\n",
    "        \"accuracy\": metrics.accuracy_score(y_targets, y_preds),\n",
    "        \"precision\": metrics.precision_score(y_targets, y_preds, zero_division=0),\n",
    "        \"recall\": metrics.recall_score(y_targets, y_preds, zero_division=0),\n",
    "        \"f1\": metrics.f1_score(y_targets, y_preds, zero_division=0),\n",
    "        \"mcc\": metrics.matthews_corrcoef(y_targets, y_preds),\n",
    "        \"support\": y_targets.sum(),\n",
    "        \"threshold\": threshold,\n",
    "    }"
   ]
  },
  {
   "cell_type": "code",
   "execution_count": 64,
   "metadata": {},
   "outputs": [
    {
     "data": {
      "text/html": [
       "<div>\n",
       "<style scoped>\n",
       "    .dataframe tbody tr th:only-of-type {\n",
       "        vertical-align: middle;\n",
       "    }\n",
       "\n",
       "    .dataframe tbody tr th {\n",
       "        vertical-align: top;\n",
       "    }\n",
       "\n",
       "    .dataframe thead th {\n",
       "        text-align: right;\n",
       "    }\n",
       "</style>\n",
       "<table border=\"1\" class=\"dataframe\">\n",
       "  <thead>\n",
       "    <tr style=\"text-align: right;\">\n",
       "      <th></th>\n",
       "      <th>accuracy</th>\n",
       "      <th>precision</th>\n",
       "      <th>recall</th>\n",
       "      <th>f1</th>\n",
       "      <th>mcc</th>\n",
       "      <th>support</th>\n",
       "      <th>threshold</th>\n",
       "    </tr>\n",
       "  </thead>\n",
       "  <tbody>\n",
       "    <tr>\n",
       "      <th>admiration</th>\n",
       "      <td>0.844</td>\n",
       "      <td>0.103</td>\n",
       "      <td>0.087</td>\n",
       "      <td>0.094</td>\n",
       "      <td>0.010</td>\n",
       "      <td>504</td>\n",
       "      <td>0.5</td>\n",
       "    </tr>\n",
       "    <tr>\n",
       "      <th>amusement</th>\n",
       "      <td>0.907</td>\n",
       "      <td>0.074</td>\n",
       "      <td>0.080</td>\n",
       "      <td>0.077</td>\n",
       "      <td>0.027</td>\n",
       "      <td>264</td>\n",
       "      <td>0.5</td>\n",
       "    </tr>\n",
       "    <tr>\n",
       "      <th>anger</th>\n",
       "      <td>0.949</td>\n",
       "      <td>0.067</td>\n",
       "      <td>0.030</td>\n",
       "      <td>0.042</td>\n",
       "      <td>0.021</td>\n",
       "      <td>198</td>\n",
       "      <td>0.5</td>\n",
       "    </tr>\n",
       "    <tr>\n",
       "      <th>annoyance</th>\n",
       "      <td>0.910</td>\n",
       "      <td>0.038</td>\n",
       "      <td>0.022</td>\n",
       "      <td>0.028</td>\n",
       "      <td>-0.016</td>\n",
       "      <td>320</td>\n",
       "      <td>0.5</td>\n",
       "    </tr>\n",
       "    <tr>\n",
       "      <th>approval</th>\n",
       "      <td>0.908</td>\n",
       "      <td>0.079</td>\n",
       "      <td>0.040</td>\n",
       "      <td>0.053</td>\n",
       "      <td>0.010</td>\n",
       "      <td>351</td>\n",
       "      <td>0.5</td>\n",
       "    </tr>\n",
       "    <tr>\n",
       "      <th>caring</th>\n",
       "      <td>0.966</td>\n",
       "      <td>0.020</td>\n",
       "      <td>0.007</td>\n",
       "      <td>0.011</td>\n",
       "      <td>-0.003</td>\n",
       "      <td>135</td>\n",
       "      <td>0.5</td>\n",
       "    </tr>\n",
       "    <tr>\n",
       "      <th>confusion</th>\n",
       "      <td>0.958</td>\n",
       "      <td>0.047</td>\n",
       "      <td>0.026</td>\n",
       "      <td>0.034</td>\n",
       "      <td>0.014</td>\n",
       "      <td>153</td>\n",
       "      <td>0.5</td>\n",
       "    </tr>\n",
       "    <tr>\n",
       "      <th>curiosity</th>\n",
       "      <td>0.913</td>\n",
       "      <td>0.068</td>\n",
       "      <td>0.053</td>\n",
       "      <td>0.060</td>\n",
       "      <td>0.015</td>\n",
       "      <td>284</td>\n",
       "      <td>0.5</td>\n",
       "    </tr>\n",
       "    <tr>\n",
       "      <th>desire</th>\n",
       "      <td>0.975</td>\n",
       "      <td>0.019</td>\n",
       "      <td>0.012</td>\n",
       "      <td>0.015</td>\n",
       "      <td>0.003</td>\n",
       "      <td>83</td>\n",
       "      <td>0.5</td>\n",
       "    </tr>\n",
       "    <tr>\n",
       "      <th>disappointment</th>\n",
       "      <td>0.965</td>\n",
       "      <td>0.049</td>\n",
       "      <td>0.013</td>\n",
       "      <td>0.021</td>\n",
       "      <td>0.011</td>\n",
       "      <td>151</td>\n",
       "      <td>0.5</td>\n",
       "    </tr>\n",
       "    <tr>\n",
       "      <th>disapproval</th>\n",
       "      <td>0.926</td>\n",
       "      <td>0.035</td>\n",
       "      <td>0.019</td>\n",
       "      <td>0.024</td>\n",
       "      <td>-0.011</td>\n",
       "      <td>267</td>\n",
       "      <td>0.5</td>\n",
       "    </tr>\n",
       "    <tr>\n",
       "      <th>disgust</th>\n",
       "      <td>0.969</td>\n",
       "      <td>0.057</td>\n",
       "      <td>0.024</td>\n",
       "      <td>0.034</td>\n",
       "      <td>0.023</td>\n",
       "      <td>123</td>\n",
       "      <td>0.5</td>\n",
       "    </tr>\n",
       "    <tr>\n",
       "      <th>embarrassment</th>\n",
       "      <td>0.990</td>\n",
       "      <td>0.000</td>\n",
       "      <td>0.000</td>\n",
       "      <td>0.000</td>\n",
       "      <td>-0.005</td>\n",
       "      <td>37</td>\n",
       "      <td>0.5</td>\n",
       "    </tr>\n",
       "    <tr>\n",
       "      <th>excitement</th>\n",
       "      <td>0.973</td>\n",
       "      <td>0.043</td>\n",
       "      <td>0.019</td>\n",
       "      <td>0.027</td>\n",
       "      <td>0.017</td>\n",
       "      <td>103</td>\n",
       "      <td>0.5</td>\n",
       "    </tr>\n",
       "    <tr>\n",
       "      <th>fear</th>\n",
       "      <td>0.977</td>\n",
       "      <td>0.021</td>\n",
       "      <td>0.013</td>\n",
       "      <td>0.016</td>\n",
       "      <td>0.005</td>\n",
       "      <td>78</td>\n",
       "      <td>0.5</td>\n",
       "    </tr>\n",
       "    <tr>\n",
       "      <th>gratitude</th>\n",
       "      <td>0.880</td>\n",
       "      <td>0.053</td>\n",
       "      <td>0.051</td>\n",
       "      <td>0.052</td>\n",
       "      <td>-0.012</td>\n",
       "      <td>352</td>\n",
       "      <td>0.5</td>\n",
       "    </tr>\n",
       "    <tr>\n",
       "      <th>grief</th>\n",
       "      <td>0.999</td>\n",
       "      <td>0.000</td>\n",
       "      <td>0.000</td>\n",
       "      <td>0.000</td>\n",
       "      <td>0.000</td>\n",
       "      <td>6</td>\n",
       "      <td>0.5</td>\n",
       "    </tr>\n",
       "    <tr>\n",
       "      <th>joy</th>\n",
       "      <td>0.948</td>\n",
       "      <td>0.031</td>\n",
       "      <td>0.025</td>\n",
       "      <td>0.028</td>\n",
       "      <td>0.001</td>\n",
       "      <td>161</td>\n",
       "      <td>0.5</td>\n",
       "    </tr>\n",
       "    <tr>\n",
       "      <th>love</th>\n",
       "      <td>0.918</td>\n",
       "      <td>0.052</td>\n",
       "      <td>0.050</td>\n",
       "      <td>0.051</td>\n",
       "      <td>0.008</td>\n",
       "      <td>238</td>\n",
       "      <td>0.5</td>\n",
       "    </tr>\n",
       "    <tr>\n",
       "      <th>nervousness</th>\n",
       "      <td>0.996</td>\n",
       "      <td>0.000</td>\n",
       "      <td>0.000</td>\n",
       "      <td>0.000</td>\n",
       "      <td>0.000</td>\n",
       "      <td>23</td>\n",
       "      <td>0.5</td>\n",
       "    </tr>\n",
       "    <tr>\n",
       "      <th>optimism</th>\n",
       "      <td>0.946</td>\n",
       "      <td>0.026</td>\n",
       "      <td>0.016</td>\n",
       "      <td>0.020</td>\n",
       "      <td>-0.007</td>\n",
       "      <td>186</td>\n",
       "      <td>0.5</td>\n",
       "    </tr>\n",
       "    <tr>\n",
       "      <th>pride</th>\n",
       "      <td>0.997</td>\n",
       "      <td>0.000</td>\n",
       "      <td>0.000</td>\n",
       "      <td>0.000</td>\n",
       "      <td>0.000</td>\n",
       "      <td>16</td>\n",
       "      <td>0.5</td>\n",
       "    </tr>\n",
       "    <tr>\n",
       "      <th>realization</th>\n",
       "      <td>0.969</td>\n",
       "      <td>0.000</td>\n",
       "      <td>0.000</td>\n",
       "      <td>0.000</td>\n",
       "      <td>-0.010</td>\n",
       "      <td>145</td>\n",
       "      <td>0.5</td>\n",
       "    </tr>\n",
       "    <tr>\n",
       "      <th>relief</th>\n",
       "      <td>0.998</td>\n",
       "      <td>0.000</td>\n",
       "      <td>0.000</td>\n",
       "      <td>0.000</td>\n",
       "      <td>-0.001</td>\n",
       "      <td>11</td>\n",
       "      <td>0.5</td>\n",
       "    </tr>\n",
       "    <tr>\n",
       "      <th>remorse</th>\n",
       "      <td>0.981</td>\n",
       "      <td>0.000</td>\n",
       "      <td>0.000</td>\n",
       "      <td>0.000</td>\n",
       "      <td>-0.009</td>\n",
       "      <td>56</td>\n",
       "      <td>0.5</td>\n",
       "    </tr>\n",
       "    <tr>\n",
       "      <th>sadness</th>\n",
       "      <td>0.954</td>\n",
       "      <td>0.000</td>\n",
       "      <td>0.000</td>\n",
       "      <td>0.000</td>\n",
       "      <td>-0.022</td>\n",
       "      <td>156</td>\n",
       "      <td>0.5</td>\n",
       "    </tr>\n",
       "    <tr>\n",
       "      <th>surprise</th>\n",
       "      <td>0.957</td>\n",
       "      <td>0.031</td>\n",
       "      <td>0.021</td>\n",
       "      <td>0.025</td>\n",
       "      <td>0.004</td>\n",
       "      <td>141</td>\n",
       "      <td>0.5</td>\n",
       "    </tr>\n",
       "    <tr>\n",
       "      <th>neutral</th>\n",
       "      <td>0.533</td>\n",
       "      <td>0.317</td>\n",
       "      <td>0.360</td>\n",
       "      <td>0.337</td>\n",
       "      <td>-0.021</td>\n",
       "      <td>1787</td>\n",
       "      <td>0.5</td>\n",
       "    </tr>\n",
       "  </tbody>\n",
       "</table>\n",
       "</div>"
      ],
      "text/plain": [
       "                accuracy  precision  recall     f1    mcc  support  threshold\n",
       "admiration         0.844      0.103   0.087  0.094  0.010      504        0.5\n",
       "amusement          0.907      0.074   0.080  0.077  0.027      264        0.5\n",
       "anger              0.949      0.067   0.030  0.042  0.021      198        0.5\n",
       "annoyance          0.910      0.038   0.022  0.028 -0.016      320        0.5\n",
       "approval           0.908      0.079   0.040  0.053  0.010      351        0.5\n",
       "caring             0.966      0.020   0.007  0.011 -0.003      135        0.5\n",
       "confusion          0.958      0.047   0.026  0.034  0.014      153        0.5\n",
       "curiosity          0.913      0.068   0.053  0.060  0.015      284        0.5\n",
       "desire             0.975      0.019   0.012  0.015  0.003       83        0.5\n",
       "disappointment     0.965      0.049   0.013  0.021  0.011      151        0.5\n",
       "disapproval        0.926      0.035   0.019  0.024 -0.011      267        0.5\n",
       "disgust            0.969      0.057   0.024  0.034  0.023      123        0.5\n",
       "embarrassment      0.990      0.000   0.000  0.000 -0.005       37        0.5\n",
       "excitement         0.973      0.043   0.019  0.027  0.017      103        0.5\n",
       "fear               0.977      0.021   0.013  0.016  0.005       78        0.5\n",
       "gratitude          0.880      0.053   0.051  0.052 -0.012      352        0.5\n",
       "grief              0.999      0.000   0.000  0.000  0.000        6        0.5\n",
       "joy                0.948      0.031   0.025  0.028  0.001      161        0.5\n",
       "love               0.918      0.052   0.050  0.051  0.008      238        0.5\n",
       "nervousness        0.996      0.000   0.000  0.000  0.000       23        0.5\n",
       "optimism           0.946      0.026   0.016  0.020 -0.007      186        0.5\n",
       "pride              0.997      0.000   0.000  0.000  0.000       16        0.5\n",
       "realization        0.969      0.000   0.000  0.000 -0.010      145        0.5\n",
       "relief             0.998      0.000   0.000  0.000 -0.001       11        0.5\n",
       "remorse            0.981      0.000   0.000  0.000 -0.009       56        0.5\n",
       "sadness            0.954      0.000   0.000  0.000 -0.022      156        0.5\n",
       "surprise           0.957      0.031   0.021  0.025  0.004      141        0.5\n",
       "neutral            0.533      0.317   0.360  0.337 -0.021     1787        0.5"
      ]
     },
     "metadata": {},
     "output_type": "display_data"
    }
   ],
   "source": [
    "threshold = 0.5\n",
    "model_outputs_array = np.array(model_outputs)\n",
    "y_preds_all = (model_outputs_array > threshold).astype(int)\n",
    "results = []\n",
    "for label_index, label in enumerate(label_names):\n",
    "    y_targets, y_preds = y_targets_all[:, label_index], y_preds_all[:, label_index]\n",
    "    results.append(calc_label_metrics(label, y_targets, y_preds, threshold))\n",
    "\n",
    "per_label_results = pd.DataFrame(results, index=label_names)\n",
    "display(per_label_results.drop(columns=[\"label\"]).round(3))"
   ]
  },
  {
   "cell_type": "markdown",
   "metadata": {},
   "source": [
    "Note, should probably ignore accuracy metric again, but in this case at the per-label level a multi-label dataset has a huge number of true negatives which make the accuracy figure pretty meaningless. E.g. in a situation where there are 10 positive items and 990 negative items, if a model simply predicts negative for everything, its accuracy figure still appears very high (0.99) even though its clearly not performing to a useful level."
   ]
  },
  {
   "cell_type": "code",
   "execution_count": null,
   "metadata": {},
   "outputs": [
    {
     "ename": "NameError",
     "evalue": "name 'per_label_results' is not defined",
     "output_type": "error",
     "traceback": [
      "\u001b[0;31m---------------------------------------------------------------------------\u001b[0m",
      "\u001b[0;31mNameError\u001b[0m                                 Traceback (most recent call last)",
      "Cell \u001b[0;32mIn[47], line 2\u001b[0m\n\u001b[1;32m      1\u001b[0m per_label_results[\u001b[38;5;124m\"\u001b[39m\u001b[38;5;124mlabel (support)\u001b[39m\u001b[38;5;124m\"\u001b[39m] \u001b[38;5;241m=\u001b[39m (\n\u001b[0;32m----> 2\u001b[0m     \u001b[43mper_label_results\u001b[49m\u001b[38;5;241m.\u001b[39mindex \u001b[38;5;241m+\u001b[39m \u001b[38;5;124m\"\u001b[39m\u001b[38;5;124m (\u001b[39m\u001b[38;5;124m\"\u001b[39m \u001b[38;5;241m+\u001b[39m per_label_results[\u001b[38;5;124m\"\u001b[39m\u001b[38;5;124msupport\u001b[39m\u001b[38;5;124m\"\u001b[39m]\u001b[38;5;241m.\u001b[39mastype(\u001b[38;5;28mstr\u001b[39m) \u001b[38;5;241m+\u001b[39m \u001b[38;5;124m\"\u001b[39m\u001b[38;5;124m)\u001b[39m\u001b[38;5;124m\"\u001b[39m\n\u001b[1;32m      3\u001b[0m )\n\u001b[1;32m      4\u001b[0m ax \u001b[38;5;241m=\u001b[39m per_label_results\u001b[38;5;241m.\u001b[39msort_values(by\u001b[38;5;241m=\u001b[39m\u001b[38;5;124m\"\u001b[39m\u001b[38;5;124msupport\u001b[39m\u001b[38;5;124m\"\u001b[39m)\u001b[38;5;241m.\u001b[39mplot\u001b[38;5;241m.\u001b[39mbar(\n\u001b[1;32m      5\u001b[0m     x\u001b[38;5;241m=\u001b[39m\u001b[38;5;124m\"\u001b[39m\u001b[38;5;124mlabel (support)\u001b[39m\u001b[38;5;124m\"\u001b[39m,\n\u001b[1;32m      6\u001b[0m     y\u001b[38;5;241m=\u001b[39m[\u001b[38;5;124m\"\u001b[39m\u001b[38;5;124mf1\u001b[39m\u001b[38;5;124m\"\u001b[39m],\n\u001b[0;32m   (...)\u001b[0m\n\u001b[1;32m      9\u001b[0m     figsize\u001b[38;5;241m=\u001b[39m(\u001b[38;5;241m11\u001b[39m,\u001b[38;5;241m3\u001b[39m),\n\u001b[1;32m     10\u001b[0m )\n\u001b[1;32m     11\u001b[0m ax\u001b[38;5;241m.\u001b[39mtick_params(axis\u001b[38;5;241m=\u001b[39m\u001b[38;5;124m'\u001b[39m\u001b[38;5;124mx\u001b[39m\u001b[38;5;124m'\u001b[39m, which\u001b[38;5;241m=\u001b[39m\u001b[38;5;124m'\u001b[39m\u001b[38;5;124mmajor\u001b[39m\u001b[38;5;124m'\u001b[39m, labelsize\u001b[38;5;241m=\u001b[39m\u001b[38;5;241m8\u001b[39m)\n",
      "\u001b[0;31mNameError\u001b[0m: name 'per_label_results' is not defined"
     ]
    }
   ],
   "source": [
    "per_label_results[\"label (support)\"] = (\n",
    "    per_label_results.index + \" (\" + per_label_results[\"support\"].astype(str) + \")\"\n",
    ")\n",
    "ax = per_label_results.sort_values(by=\"support\").plot.bar(\n",
    "    x=\"label (support)\",\n",
    "    y=[\"f1\"],\n",
    "    rot=90,\n",
    "    title=\"F1 (sorted by label support) @ 0.5 threshold\",\n",
    "    figsize=(11,3),\n",
    ")\n",
    "ax.tick_params(axis='x', which='major', labelsize=8)\n",
    "ax.axes.xaxis.label.set_text(f\"label (support, in {split_name} split)\")\n",
    "plt.show()"
   ]
  },
  {
   "cell_type": "markdown",
   "metadata": {},
   "source": [
    "We can recreate dataset-wide metrics from per-label metrics, which will prove useful later."
   ]
  },
  {
   "cell_type": "code",
   "execution_count": null,
   "metadata": {},
   "outputs": [
    {
     "name": "stdout",
     "output_type": "stream",
     "text": [
      "Simple mean of labels: {'precision': 0.042, 'recall': 0.56, 'f1': 0.074, 'mcc': 0.003}\n",
      "Weighted average (using support): {'precision': 0.127, 'recall': 0.754, 'f1': 0.202, 'mcc': 0.003}\n"
     ]
    }
   ],
   "source": [
    "def dataset_wide_metrics(df):\n",
    "    simple_mean = {\n",
    "        m: round(df[m].mean(), 3)\n",
    "        for m in [\"precision\", \"recall\", \"f1\", \"mcc\"]\n",
    "    }\n",
    "    print(\"Simple mean of labels:\", simple_mean)\n",
    "    weighted = {\n",
    "        m: round(sum(df[m] * df[\"support\"]) / df[\"support\"].sum(), 3)\n",
    "        for m in [\"precision\", \"recall\", \"f1\", \"mcc\"]\n",
    "    }\n",
    "    print(\"Weighted average (using support):\", weighted)\n",
    "    return simple_mean, weighted\n",
    "\n",
    "_ = dataset_wide_metrics(per_label_results)"
   ]
  },
  {
   "cell_type": "markdown",
   "metadata": {},
   "source": [
    "So, now lets do a crude search for how the metrics vary by threshold, rather than naively setting it at 0.5 as above"
   ]
  },
  {
   "cell_type": "code",
   "execution_count": null,
   "metadata": {},
   "outputs": [
    {
     "name": "stderr",
     "output_type": "stream",
     "text": [
      "100%|██████████| 19/19 [00:16<00:00,  1.15it/s]\n"
     ]
    }
   ],
   "source": [
    "threshold_results = {}\n",
    "for t in tqdm(range(5, 100, 5)):\n",
    "    threshold = t / 100\n",
    "    y_preds_all = (y_probas_all > threshold).astype(int)\n",
    "    threshold_results[threshold] = []\n",
    "    for label_index, label in enumerate(labels):\n",
    "        y_targets, y_preds = y_targets_all[:, label_index], y_preds_all[:, label_index]\n",
    "        threshold_results[threshold].append(calc_label_metrics(label, y_targets, y_preds, threshold))"
   ]
  },
  {
   "cell_type": "code",
   "execution_count": null,
   "metadata": {},
   "outputs": [
    {
     "data": {
      "text/html": [
       "<div>\n",
       "<style scoped>\n",
       "    .dataframe tbody tr th:only-of-type {\n",
       "        vertical-align: middle;\n",
       "    }\n",
       "\n",
       "    .dataframe tbody tr th {\n",
       "        vertical-align: top;\n",
       "    }\n",
       "\n",
       "    .dataframe thead th {\n",
       "        text-align: right;\n",
       "    }\n",
       "</style>\n",
       "<table border=\"1\" class=\"dataframe\">\n",
       "  <thead>\n",
       "    <tr style=\"text-align: right;\">\n",
       "      <th></th>\n",
       "      <th>accuracy</th>\n",
       "      <th>precision</th>\n",
       "      <th>recall</th>\n",
       "      <th>f1</th>\n",
       "      <th>mcc</th>\n",
       "      <th>support</th>\n",
       "      <th>threshold</th>\n",
       "    </tr>\n",
       "  </thead>\n",
       "  <tbody>\n",
       "    <tr>\n",
       "      <th>admiration</th>\n",
       "      <td>0.907</td>\n",
       "      <td>0.000</td>\n",
       "      <td>0.000</td>\n",
       "      <td>0.000</td>\n",
       "      <td>0.000</td>\n",
       "      <td>504</td>\n",
       "      <td>0.05</td>\n",
       "    </tr>\n",
       "    <tr>\n",
       "      <th>amusement</th>\n",
       "      <td>0.951</td>\n",
       "      <td>0.000</td>\n",
       "      <td>0.000</td>\n",
       "      <td>0.000</td>\n",
       "      <td>0.000</td>\n",
       "      <td>264</td>\n",
       "      <td>0.05</td>\n",
       "    </tr>\n",
       "    <tr>\n",
       "      <th>anger</th>\n",
       "      <td>0.964</td>\n",
       "      <td>0.000</td>\n",
       "      <td>0.000</td>\n",
       "      <td>0.000</td>\n",
       "      <td>0.000</td>\n",
       "      <td>198</td>\n",
       "      <td>0.05</td>\n",
       "    </tr>\n",
       "    <tr>\n",
       "      <th>annoyance</th>\n",
       "      <td>0.941</td>\n",
       "      <td>0.000</td>\n",
       "      <td>0.000</td>\n",
       "      <td>0.000</td>\n",
       "      <td>0.000</td>\n",
       "      <td>320</td>\n",
       "      <td>0.05</td>\n",
       "    </tr>\n",
       "    <tr>\n",
       "      <th>approval</th>\n",
       "      <td>0.935</td>\n",
       "      <td>0.000</td>\n",
       "      <td>0.000</td>\n",
       "      <td>0.000</td>\n",
       "      <td>0.000</td>\n",
       "      <td>351</td>\n",
       "      <td>0.05</td>\n",
       "    </tr>\n",
       "    <tr>\n",
       "      <th>caring</th>\n",
       "      <td>0.975</td>\n",
       "      <td>0.000</td>\n",
       "      <td>0.000</td>\n",
       "      <td>0.000</td>\n",
       "      <td>0.000</td>\n",
       "      <td>135</td>\n",
       "      <td>0.05</td>\n",
       "    </tr>\n",
       "    <tr>\n",
       "      <th>confusion</th>\n",
       "      <td>0.972</td>\n",
       "      <td>0.000</td>\n",
       "      <td>0.000</td>\n",
       "      <td>0.000</td>\n",
       "      <td>0.000</td>\n",
       "      <td>153</td>\n",
       "      <td>0.05</td>\n",
       "    </tr>\n",
       "    <tr>\n",
       "      <th>curiosity</th>\n",
       "      <td>0.948</td>\n",
       "      <td>0.000</td>\n",
       "      <td>0.000</td>\n",
       "      <td>0.000</td>\n",
       "      <td>0.000</td>\n",
       "      <td>284</td>\n",
       "      <td>0.05</td>\n",
       "    </tr>\n",
       "    <tr>\n",
       "      <th>desire</th>\n",
       "      <td>0.985</td>\n",
       "      <td>0.000</td>\n",
       "      <td>0.000</td>\n",
       "      <td>0.000</td>\n",
       "      <td>0.000</td>\n",
       "      <td>83</td>\n",
       "      <td>0.05</td>\n",
       "    </tr>\n",
       "    <tr>\n",
       "      <th>disappointment</th>\n",
       "      <td>0.972</td>\n",
       "      <td>0.000</td>\n",
       "      <td>0.000</td>\n",
       "      <td>0.000</td>\n",
       "      <td>0.000</td>\n",
       "      <td>151</td>\n",
       "      <td>0.05</td>\n",
       "    </tr>\n",
       "    <tr>\n",
       "      <th>disapproval</th>\n",
       "      <td>0.951</td>\n",
       "      <td>0.000</td>\n",
       "      <td>0.000</td>\n",
       "      <td>0.000</td>\n",
       "      <td>0.000</td>\n",
       "      <td>267</td>\n",
       "      <td>0.05</td>\n",
       "    </tr>\n",
       "    <tr>\n",
       "      <th>disgust</th>\n",
       "      <td>0.977</td>\n",
       "      <td>0.000</td>\n",
       "      <td>0.000</td>\n",
       "      <td>0.000</td>\n",
       "      <td>0.000</td>\n",
       "      <td>123</td>\n",
       "      <td>0.05</td>\n",
       "    </tr>\n",
       "    <tr>\n",
       "      <th>embarrassment</th>\n",
       "      <td>0.993</td>\n",
       "      <td>0.000</td>\n",
       "      <td>0.000</td>\n",
       "      <td>0.000</td>\n",
       "      <td>0.000</td>\n",
       "      <td>37</td>\n",
       "      <td>0.05</td>\n",
       "    </tr>\n",
       "    <tr>\n",
       "      <th>excitement</th>\n",
       "      <td>0.981</td>\n",
       "      <td>0.000</td>\n",
       "      <td>0.000</td>\n",
       "      <td>0.000</td>\n",
       "      <td>0.000</td>\n",
       "      <td>103</td>\n",
       "      <td>0.05</td>\n",
       "    </tr>\n",
       "    <tr>\n",
       "      <th>fear</th>\n",
       "      <td>0.986</td>\n",
       "      <td>0.000</td>\n",
       "      <td>0.000</td>\n",
       "      <td>0.000</td>\n",
       "      <td>0.000</td>\n",
       "      <td>78</td>\n",
       "      <td>0.05</td>\n",
       "    </tr>\n",
       "    <tr>\n",
       "      <th>gratitude</th>\n",
       "      <td>0.935</td>\n",
       "      <td>0.000</td>\n",
       "      <td>0.000</td>\n",
       "      <td>0.000</td>\n",
       "      <td>0.000</td>\n",
       "      <td>352</td>\n",
       "      <td>0.05</td>\n",
       "    </tr>\n",
       "    <tr>\n",
       "      <th>grief</th>\n",
       "      <td>0.999</td>\n",
       "      <td>0.000</td>\n",
       "      <td>0.000</td>\n",
       "      <td>0.000</td>\n",
       "      <td>0.000</td>\n",
       "      <td>6</td>\n",
       "      <td>0.05</td>\n",
       "    </tr>\n",
       "    <tr>\n",
       "      <th>joy</th>\n",
       "      <td>0.970</td>\n",
       "      <td>0.000</td>\n",
       "      <td>0.000</td>\n",
       "      <td>0.000</td>\n",
       "      <td>0.000</td>\n",
       "      <td>161</td>\n",
       "      <td>0.05</td>\n",
       "    </tr>\n",
       "    <tr>\n",
       "      <th>love</th>\n",
       "      <td>0.956</td>\n",
       "      <td>0.000</td>\n",
       "      <td>0.000</td>\n",
       "      <td>0.000</td>\n",
       "      <td>0.000</td>\n",
       "      <td>238</td>\n",
       "      <td>0.05</td>\n",
       "    </tr>\n",
       "    <tr>\n",
       "      <th>nervousness</th>\n",
       "      <td>0.996</td>\n",
       "      <td>0.000</td>\n",
       "      <td>0.000</td>\n",
       "      <td>0.000</td>\n",
       "      <td>0.000</td>\n",
       "      <td>23</td>\n",
       "      <td>0.05</td>\n",
       "    </tr>\n",
       "    <tr>\n",
       "      <th>optimism</th>\n",
       "      <td>0.966</td>\n",
       "      <td>0.000</td>\n",
       "      <td>0.000</td>\n",
       "      <td>0.000</td>\n",
       "      <td>0.000</td>\n",
       "      <td>186</td>\n",
       "      <td>0.05</td>\n",
       "    </tr>\n",
       "    <tr>\n",
       "      <th>pride</th>\n",
       "      <td>0.997</td>\n",
       "      <td>0.000</td>\n",
       "      <td>0.000</td>\n",
       "      <td>0.000</td>\n",
       "      <td>0.000</td>\n",
       "      <td>16</td>\n",
       "      <td>0.05</td>\n",
       "    </tr>\n",
       "    <tr>\n",
       "      <th>realization</th>\n",
       "      <td>0.973</td>\n",
       "      <td>0.000</td>\n",
       "      <td>0.000</td>\n",
       "      <td>0.000</td>\n",
       "      <td>0.000</td>\n",
       "      <td>145</td>\n",
       "      <td>0.05</td>\n",
       "    </tr>\n",
       "    <tr>\n",
       "      <th>relief</th>\n",
       "      <td>0.998</td>\n",
       "      <td>0.000</td>\n",
       "      <td>0.000</td>\n",
       "      <td>0.000</td>\n",
       "      <td>0.000</td>\n",
       "      <td>11</td>\n",
       "      <td>0.05</td>\n",
       "    </tr>\n",
       "    <tr>\n",
       "      <th>remorse</th>\n",
       "      <td>0.990</td>\n",
       "      <td>0.000</td>\n",
       "      <td>0.000</td>\n",
       "      <td>0.000</td>\n",
       "      <td>0.000</td>\n",
       "      <td>56</td>\n",
       "      <td>0.05</td>\n",
       "    </tr>\n",
       "    <tr>\n",
       "      <th>sadness</th>\n",
       "      <td>0.971</td>\n",
       "      <td>0.000</td>\n",
       "      <td>0.000</td>\n",
       "      <td>0.000</td>\n",
       "      <td>0.000</td>\n",
       "      <td>156</td>\n",
       "      <td>0.05</td>\n",
       "    </tr>\n",
       "    <tr>\n",
       "      <th>surprise</th>\n",
       "      <td>0.974</td>\n",
       "      <td>0.000</td>\n",
       "      <td>0.000</td>\n",
       "      <td>0.000</td>\n",
       "      <td>0.000</td>\n",
       "      <td>141</td>\n",
       "      <td>0.05</td>\n",
       "    </tr>\n",
       "    <tr>\n",
       "      <th>neutral</th>\n",
       "      <td>0.402</td>\n",
       "      <td>0.325</td>\n",
       "      <td>0.755</td>\n",
       "      <td>0.454</td>\n",
       "      <td>-0.018</td>\n",
       "      <td>1787</td>\n",
       "      <td>0.05</td>\n",
       "    </tr>\n",
       "  </tbody>\n",
       "</table>\n",
       "</div>"
      ],
      "text/plain": [
       "                accuracy  precision  recall     f1    mcc  support  threshold\n",
       "admiration         0.907      0.000   0.000  0.000  0.000      504       0.05\n",
       "amusement          0.951      0.000   0.000  0.000  0.000      264       0.05\n",
       "anger              0.964      0.000   0.000  0.000  0.000      198       0.05\n",
       "annoyance          0.941      0.000   0.000  0.000  0.000      320       0.05\n",
       "approval           0.935      0.000   0.000  0.000  0.000      351       0.05\n",
       "caring             0.975      0.000   0.000  0.000  0.000      135       0.05\n",
       "confusion          0.972      0.000   0.000  0.000  0.000      153       0.05\n",
       "curiosity          0.948      0.000   0.000  0.000  0.000      284       0.05\n",
       "desire             0.985      0.000   0.000  0.000  0.000       83       0.05\n",
       "disappointment     0.972      0.000   0.000  0.000  0.000      151       0.05\n",
       "disapproval        0.951      0.000   0.000  0.000  0.000      267       0.05\n",
       "disgust            0.977      0.000   0.000  0.000  0.000      123       0.05\n",
       "embarrassment      0.993      0.000   0.000  0.000  0.000       37       0.05\n",
       "excitement         0.981      0.000   0.000  0.000  0.000      103       0.05\n",
       "fear               0.986      0.000   0.000  0.000  0.000       78       0.05\n",
       "gratitude          0.935      0.000   0.000  0.000  0.000      352       0.05\n",
       "grief              0.999      0.000   0.000  0.000  0.000        6       0.05\n",
       "joy                0.970      0.000   0.000  0.000  0.000      161       0.05\n",
       "love               0.956      0.000   0.000  0.000  0.000      238       0.05\n",
       "nervousness        0.996      0.000   0.000  0.000  0.000       23       0.05\n",
       "optimism           0.966      0.000   0.000  0.000  0.000      186       0.05\n",
       "pride              0.997      0.000   0.000  0.000  0.000       16       0.05\n",
       "realization        0.973      0.000   0.000  0.000  0.000      145       0.05\n",
       "relief             0.998      0.000   0.000  0.000  0.000       11       0.05\n",
       "remorse            0.990      0.000   0.000  0.000  0.000       56       0.05\n",
       "sadness            0.971      0.000   0.000  0.000  0.000      156       0.05\n",
       "surprise           0.974      0.000   0.000  0.000  0.000      141       0.05\n",
       "neutral            0.402      0.325   0.755  0.454 -0.018     1787       0.05"
      ]
     },
     "metadata": {},
     "output_type": "display_data"
    }
   ],
   "source": [
    "metric_name = \"f1\"\n",
    "best = {label: {metric_name: -1, \"result\": None} for label in labels}\n",
    "for threshold, results in threshold_results.items():\n",
    "    for result in results:\n",
    "        label = result[\"label\"]\n",
    "        if result[metric_name] > best[label][metric_name]:\n",
    "            best[label] = {metric_name: result[metric_name], \"result\": result}\n",
    "\n",
    "results = [b[\"result\"] for b in best.values()]\n",
    "per_label_threshold_results = pd.DataFrame(results, index=[result[\"label\"] for result in results])\n",
    "display(per_label_threshold_results.drop(columns=[\"label\"]).round(3))"
   ]
  },
  {
   "cell_type": "markdown",
   "metadata": {},
   "source": [
    "Charting it"
   ]
  },
  {
   "cell_type": "code",
   "execution_count": null,
   "metadata": {},
   "outputs": [
    {
     "data": {
      "image/png": "[encoded data removed]",
      "text/plain": [
       "<Figure size 1100x300 with 1 Axes>"
      ]
     },
     "metadata": {},
     "output_type": "display_data"
    }
   ],
   "source": [
    "per_label_threshold_results[\"label (support)\"] = (\n",
    "    per_label_threshold_results[\"label\"] + \" (\" + per_label_threshold_results[\"support\"].astype(str) + \")\"\n",
    ")\n",
    "ax = per_label_threshold_results.sort_values(by=\"support\").plot.bar(\n",
    "    x='label (support)',\n",
    "    y=[\"f1\", \"threshold\"],\n",
    "    rot=90,\n",
    "    title=\"F1 (sorted by label support) @ threshold for max f1\",\n",
    "    width=0.7,\n",
    "    figsize=(11,3),\n",
    ")\n",
    "ax.tick_params(axis='x', which='major', labelsize=8)\n",
    "ax.axes.xaxis.label.set_text(f\"label (support, in {split_name} split)\")\n",
    "plt.show()"
   ]
  },
  {
   "cell_type": "markdown",
   "metadata": {},
   "source": [
    "Note how the best performing threshold (when measured by maximizing f1) is always a lower threshold than the 0.5 assumed before. This is likely because there are so mny true negatives in the dataset (as is often the case with multi-label, multi-class datasets).\n",
    "\n",
    "As you'd expect precision takes a dip vs before as the model is predicting positive more often, but to a lesser degree than recall climbs, causing F1 to overall increase (since F1 is the harmonic mean of precision and recall).\n",
    "\n",
    "The most extreme examples being the labels with the smallest support (e.g. grief) where the smallest threshold tried (0.05) is the one that cajoles the model into finally giving some positives and hence getting valid precision and recall scores that can't do if they never predict positive.\n",
    "\n",
    "Various techniques could be used to increase the probas so these low thresholds were not the best, such as boosting/duplicating the true positives in the training set, data augmentation, or a linear layer to boost the proba output, but simply using a label-bespoke threshold here gives us a view of the perf of the model as it is. "
   ]
  },
  {
   "cell_type": "code",
   "execution_count": null,
   "metadata": {},
   "outputs": [
    {
     "data": {
      "image/png": "[encoded data removed]",
      "text/plain": [
       "<Figure size 700x300 with 1 Axes>"
      ]
     },
     "metadata": {},
     "output_type": "display_data"
    }
   ],
   "source": [
    "_label_name = \"anger\"\n",
    "label_per_threshold_results = []\n",
    "for threshold, results in threshold_results.items():\n",
    "    for result in results:\n",
    "        if result[\"label\"] == _label_name:\n",
    "            label_per_threshold_results.append(result)\n",
    "\n",
    "label_per_threshold_results = pd.DataFrame(\n",
    "    label_per_threshold_results, index=[r[\"threshold\"] for r in label_per_threshold_results]\n",
    ")\n",
    "ax = label_per_threshold_results.plot.line(\n",
    "    x=\"threshold\", y=[\"precision\", \"recall\", \"f1\"], rot=90, title=_label_name, figsize=(7,3)\n",
    ")\n",
    "ax.axvline(0.5, color='gray', linestyle='--')\n",
    "ax.axhline(label_per_threshold_results[\"f1\"].max(), color=\"gray\", linestyle=\"--\")\n",
    "ax.xaxis.set_ticks(np.arange(0, 1, 0.05))\n",
    "plt.show()"
   ]
  },
  {
   "cell_type": "code",
   "execution_count": null,
   "metadata": {},
   "outputs": [
    {
     "name": "stdout",
     "output_type": "stream",
     "text": [
      "### Threshold set to arbitary 0.5\n",
      "Simple mean of labels: {'precision': 0.042, 'recall': 0.56, 'f1': 0.074, 'mcc': 0.003}\n",
      "Weighted average (using support): {'precision': 0.127, 'recall': 0.754, 'f1': 0.202, 'mcc': 0.003}\n",
      "\n",
      "### Threshold from per label search (for best F1 score)\n",
      "Simple mean of labels: {'precision': 0.012, 'recall': 0.027, 'f1': 0.016, 'mcc': -0.001}\n",
      "Weighted average (using support): {'precision': 0.092, 'recall': 0.213, 'f1': 0.128, 'mcc': -0.005}\n",
      "\n",
      "F1 (simple mean) improved by -78.4%\n",
      "F1 (weighted) improved by -100.0%\n"
     ]
    }
   ],
   "source": [
    "print(\"### Threshold set to arbitary 0.5\")\n",
    "_before = dataset_wide_metrics(per_label_results)\n",
    "print()\n",
    "print(\"### Threshold from per label search (for best F1 score)\")\n",
    "_after = dataset_wide_metrics(per_label_threshold_results)\n",
    "\n",
    "print()\n",
    "percentage = (_after[0][\"f1\"] - _before[0][\"f1\"]) / _before[0][\"f1\"] * 100\n",
    "print(f\"F1 (simple mean) improved by {round(percentage, 1)}%\")\n",
    "percentage = (_after[1][\"f1\"] - _before[1][\"f1\"]) / _before[0][\"f1\"] * 100\n",
    "print(f\"F1 (weighted) improved by {round(percentage, 1)}%\")"
   ]
  },
  {
   "cell_type": "markdown",
   "metadata": {},
   "source": [
    "### Dataset constraints on the model performance"
   ]
  },
  {
   "cell_type": "markdown",
   "metadata": {},
   "source": [
    "Some labels (E.g. gratitude) when considered independently perform very strongly with F1 around 0.9, whilst others (E.g. relief) perform very poorly. \n",
    "\n",
    "This is a challenging dataset. Labels such as relief do have much fewer examples in the training data (less than 100 out of the 40k+, and only 11 in the test split).\n",
    "\n",
    "But there is also some ambiguity and/or labelling errors visible in the training data of go_emotions that is suspected to constrain the performance. Data cleaning on the dataset to reduce some of the mistakes, ambiguity, conflicts and duplication in the labelling would produce a higher performing model."
   ]
  }
 ],
 "metadata": {
  "kernelspec": {
   "display_name": "Python 3",
   "language": "python",
   "name": "python3"
  },
  "language_info": {
   "codemirror_mode": {
    "name": "ipython",
    "version": 3
   },
   "file_extension": ".py",
   "mimetype": "text/x-python",
   "name": "python",
   "nbconvert_exporter": "python",
   "pygments_lexer": "ipython3",
   "version": "3.11.9"
  },
  "orig_nbformat": 4
 },
 "nbformat": 4,
 "nbformat_minor": 2
}
