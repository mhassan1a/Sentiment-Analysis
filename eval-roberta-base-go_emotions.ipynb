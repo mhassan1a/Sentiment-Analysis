{
 "cells": [
  {
   "cell_type": "markdown",
   "metadata": {},
   "source": [
    "## Evaluating the `roberta-base-go_emotions` model"
   ]
  },
  {
   "cell_type": "markdown",
   "metadata": {},
   "source": [
    "[![Open In Colab](https://colab.research.google.com/assets/colab-badge.svg)](https://colab.research.google.com/github/samlowe/go_emotions-dataset/blob/main/eval-roberta-base-go_emotions.ipynb)"
   ]
  },
  {
   "cell_type": "markdown",
   "metadata": {},
   "source": [
    "Source: https://github.com/samlowe/go_emotions-dataset/blob/main/eval-roberta-base-go_emotions.ipynb"
   ]
  },
  {
   "cell_type": "markdown",
   "metadata": {},
   "source": [
    "### Init"
   ]
  },
  {
   "cell_type": "code",
   "execution_count": 46,
   "metadata": {},
   "outputs": [],
   "source": [
    "import datasets\n",
    "from transformers import pipeline\n",
    "import numpy as np\n",
    "import pandas as pd\n",
    "import matplotlib.pyplot as plt\n",
    "from tqdm import tqdm\n",
    "import torch\n",
    "from src.models.TRANSFORMER import TransformerClassifier\n",
    "from src.models.LSTM import LSTMClassifier\n",
    "from transformers import BertModel\n",
    "from src.local_datasets.goemotions import GoEmotionsDataset\n",
    "from src.local_datasets.yelp import YelpDataset\n",
    "from torch.utils.data import DataLoader\n",
    "from torch.nn import functional as F\n"
   ]
  },
  {
   "cell_type": "markdown",
   "metadata": {},
   "source": [
    "### Load the dataset"
   ]
  },
  {
   "cell_type": "markdown",
   "metadata": {},
   "source": [
    "We just want the dataset test split here for evaluation"
   ]
  },
  {
   "cell_type": "code",
   "execution_count": 3,
   "metadata": {},
   "outputs": [
    {
     "name": "stdout",
     "output_type": "stream",
     "text": [
      "['text', 'labels', 'id', 'input_ids', 'token_type_ids', 'attention_mask']\n"
     ]
    }
   ],
   "source": [
    "split_name = \"test\"\n",
    "\n",
    "goemotions = datasets.load_from_disk(\"data/goemotion_tokenized.hf\")\n",
    "print(goemotions[split_name].column_names)"
   ]
  },
  {
   "cell_type": "code",
   "execution_count": 4,
   "metadata": {},
   "outputs": [
    {
     "name": "stdout",
     "output_type": "stream",
     "text": [
      "{0: 'admiration', 1: 'amusement', 2: 'anger', 3: 'annoyance', 4: 'approval', 5: 'caring', 6: 'confusion', 7: 'curiosity', 8: 'desire', 9: 'disappointment', 10: 'disapproval', 11: 'disgust', 12: 'embarrassment', 13: 'excitement', 14: 'fear', 15: 'gratitude', 16: 'grief', 17: 'joy', 18: 'love', 19: 'nervousness', 20: 'optimism', 21: 'pride', 22: 'realization', 23: 'relief', 24: 'remorse', 25: 'sadness', 26: 'surprise', 27: 'neutral'}\n",
      "I’m really sorry about your situation :( Although I love the names Sapphira, Cirilla, and Scarlett! admiration\n"
     ]
    }
   ],
   "source": [
    "label_names = goemotions[split_name].features[\"labels\"].feature.names\n",
    "text = goemotions[split_name]['text']\n",
    "print({i: l for i, l in enumerate(label_names)})\n",
    "print(text[0], label_names[0])"
   ]
  },
  {
   "cell_type": "markdown",
   "metadata": {},
   "source": [
    "Load into a `y_target` stucture of arrays by label (since we wish to evaluate per label for a multi-label, multi-class dataset like this)"
   ]
  },
  {
   "cell_type": "code",
   "execution_count": 5,
   "metadata": {},
   "outputs": [
    {
     "name": "stdout",
     "output_type": "stream",
     "text": [
      "[[0 0 0 0 0 0 0 0 0 0 0 0 0 0 0 0 0 0 0 0 0 0 0 0 0 1 0 0]\n",
      " [1 0 0 0 0 0 0 0 0 0 0 0 0 0 0 0 0 0 0 0 0 0 0 0 0 0 0 0]\n",
      " [0 0 0 0 0 0 0 0 0 0 0 0 0 1 0 0 0 0 0 0 0 0 0 0 0 0 0 0]]\n"
     ]
    }
   ],
   "source": [
    "num_items, num_labels = len(goemotions[split_name]), len(label_names)\n",
    "y_targets_all = np.zeros((num_items, num_labels), dtype=int)\n",
    "for i, labels_indices in enumerate(goemotions[split_name][\"labels\"]):\n",
    "    for label_index in labels_indices:\n",
    "        y_targets_all[i, label_index] = 1\n",
    "\n",
    "print(y_targets_all[0:3])"
   ]
  },
  {
   "cell_type": "markdown",
   "metadata": {},
   "source": [
    "### Load the model and run it"
   ]
  },
  {
   "cell_type": "markdown",
   "metadata": {},
   "source": [
    "Loading in a multi-label, multi-class classifier model based on Roberta-base"
   ]
  },
  {
   "cell_type": "code",
   "execution_count": 50,
   "metadata": {},
   "outputs": [
    {
     "ename": "ModuleNotFoundError",
     "evalue": "No module named 'models'",
     "output_type": "error",
     "traceback": [
      "\u001b[0;31m---------------------------------------------------------------------------\u001b[0m",
      "\u001b[0;31mModuleNotFoundError\u001b[0m                       Traceback (most recent call last)",
      "Cell \u001b[0;32mIn[50], line 1\u001b[0m\n\u001b[0;32m----> 1\u001b[0m classifier \u001b[38;5;241m=\u001b[39m \u001b[43mtorch\u001b[49m\u001b[38;5;241;43m.\u001b[39;49m\u001b[43mload\u001b[49m\u001b[43m(\u001b[49m\u001b[38;5;124;43m\"\u001b[39;49m\u001b[38;5;124;43mfinal_models/best_eval_epoch__192563_goemotions_lstm_model.pt\u001b[39;49m\u001b[38;5;124;43m\"\u001b[39;49m\u001b[43m,\u001b[49m\u001b[43m \u001b[49m\u001b[43mmap_location\u001b[49m\u001b[38;5;241;43m=\u001b[39;49m\u001b[43mtorch\u001b[49m\u001b[38;5;241;43m.\u001b[39;49m\u001b[43mdevice\u001b[49m\u001b[43m(\u001b[49m\u001b[38;5;124;43m'\u001b[39;49m\u001b[38;5;124;43mcpu\u001b[39;49m\u001b[38;5;124;43m'\u001b[39;49m\u001b[43m)\u001b[49m\u001b[43m)\u001b[49m\n\u001b[1;32m      2\u001b[0m lstm_goem_model \u001b[38;5;241m=\u001b[39m LSTMClassifier(\u001b[38;5;241m*\u001b[39m\u001b[38;5;241m*\u001b[39mclassifier[\u001b[38;5;124m'\u001b[39m\u001b[38;5;124mmodel_config\u001b[39m\u001b[38;5;124m'\u001b[39m])\n\u001b[1;32m      3\u001b[0m lstm_goem_model\u001b[38;5;241m.\u001b[39mload_state_dict(classifier[\u001b[38;5;124m'\u001b[39m\u001b[38;5;124mmodel\u001b[39m\u001b[38;5;124m'\u001b[39m])\n",
      "File \u001b[0;32m~/miniconda3/envs/nlp-proj/lib/python3.11/site-packages/torch/serialization.py:1025\u001b[0m, in \u001b[0;36mload\u001b[0;34m(f, map_location, pickle_module, weights_only, mmap, **pickle_load_args)\u001b[0m\n\u001b[1;32m   1023\u001b[0m             \u001b[38;5;28;01mexcept\u001b[39;00m \u001b[38;5;167;01mRuntimeError\u001b[39;00m \u001b[38;5;28;01mas\u001b[39;00m e:\n\u001b[1;32m   1024\u001b[0m                 \u001b[38;5;28;01mraise\u001b[39;00m pickle\u001b[38;5;241m.\u001b[39mUnpicklingError(UNSAFE_MESSAGE \u001b[38;5;241m+\u001b[39m \u001b[38;5;28mstr\u001b[39m(e)) \u001b[38;5;28;01mfrom\u001b[39;00m \u001b[38;5;28;01mNone\u001b[39;00m\n\u001b[0;32m-> 1025\u001b[0m         \u001b[38;5;28;01mreturn\u001b[39;00m \u001b[43m_load\u001b[49m\u001b[43m(\u001b[49m\u001b[43mopened_zipfile\u001b[49m\u001b[43m,\u001b[49m\n\u001b[1;32m   1026\u001b[0m \u001b[43m                     \u001b[49m\u001b[43mmap_location\u001b[49m\u001b[43m,\u001b[49m\n\u001b[1;32m   1027\u001b[0m \u001b[43m                     \u001b[49m\u001b[43mpickle_module\u001b[49m\u001b[43m,\u001b[49m\n\u001b[1;32m   1028\u001b[0m \u001b[43m                     \u001b[49m\u001b[43moverall_storage\u001b[49m\u001b[38;5;241;43m=\u001b[39;49m\u001b[43moverall_storage\u001b[49m\u001b[43m,\u001b[49m\n\u001b[1;32m   1029\u001b[0m \u001b[43m                     \u001b[49m\u001b[38;5;241;43m*\u001b[39;49m\u001b[38;5;241;43m*\u001b[39;49m\u001b[43mpickle_load_args\u001b[49m\u001b[43m)\u001b[49m\n\u001b[1;32m   1030\u001b[0m \u001b[38;5;28;01mif\u001b[39;00m mmap:\n\u001b[1;32m   1031\u001b[0m     f_name \u001b[38;5;241m=\u001b[39m \u001b[38;5;124m\"\u001b[39m\u001b[38;5;124m\"\u001b[39m \u001b[38;5;28;01mif\u001b[39;00m \u001b[38;5;129;01mnot\u001b[39;00m \u001b[38;5;28misinstance\u001b[39m(f, \u001b[38;5;28mstr\u001b[39m) \u001b[38;5;28;01melse\u001b[39;00m \u001b[38;5;124mf\u001b[39m\u001b[38;5;124m\"\u001b[39m\u001b[38;5;132;01m{\u001b[39;00mf\u001b[38;5;132;01m}\u001b[39;00m\u001b[38;5;124m, \u001b[39m\u001b[38;5;124m\"\u001b[39m\n",
      "File \u001b[0;32m~/miniconda3/envs/nlp-proj/lib/python3.11/site-packages/torch/serialization.py:1446\u001b[0m, in \u001b[0;36m_load\u001b[0;34m(zip_file, map_location, pickle_module, pickle_file, overall_storage, **pickle_load_args)\u001b[0m\n\u001b[1;32m   1444\u001b[0m unpickler \u001b[38;5;241m=\u001b[39m UnpicklerWrapper(data_file, \u001b[38;5;241m*\u001b[39m\u001b[38;5;241m*\u001b[39mpickle_load_args)\n\u001b[1;32m   1445\u001b[0m unpickler\u001b[38;5;241m.\u001b[39mpersistent_load \u001b[38;5;241m=\u001b[39m persistent_load\n\u001b[0;32m-> 1446\u001b[0m result \u001b[38;5;241m=\u001b[39m \u001b[43munpickler\u001b[49m\u001b[38;5;241;43m.\u001b[39;49m\u001b[43mload\u001b[49m\u001b[43m(\u001b[49m\u001b[43m)\u001b[49m\n\u001b[1;32m   1448\u001b[0m torch\u001b[38;5;241m.\u001b[39m_utils\u001b[38;5;241m.\u001b[39m_validate_loaded_sparse_tensors()\n\u001b[1;32m   1449\u001b[0m torch\u001b[38;5;241m.\u001b[39m_C\u001b[38;5;241m.\u001b[39m_log_api_usage_metadata(\n\u001b[1;32m   1450\u001b[0m     \u001b[38;5;124m\"\u001b[39m\u001b[38;5;124mtorch.load.metadata\u001b[39m\u001b[38;5;124m\"\u001b[39m, {\u001b[38;5;124m\"\u001b[39m\u001b[38;5;124mserialization_id\u001b[39m\u001b[38;5;124m\"\u001b[39m: zip_file\u001b[38;5;241m.\u001b[39mserialization_id()}\n\u001b[1;32m   1451\u001b[0m )\n",
      "File \u001b[0;32m~/miniconda3/envs/nlp-proj/lib/python3.11/site-packages/torch/serialization.py:1439\u001b[0m, in \u001b[0;36m_load.<locals>.UnpicklerWrapper.find_class\u001b[0;34m(self, mod_name, name)\u001b[0m\n\u001b[1;32m   1437\u001b[0m         \u001b[38;5;28;01mpass\u001b[39;00m\n\u001b[1;32m   1438\u001b[0m mod_name \u001b[38;5;241m=\u001b[39m load_module_mapping\u001b[38;5;241m.\u001b[39mget(mod_name, mod_name)\n\u001b[0;32m-> 1439\u001b[0m \u001b[38;5;28;01mreturn\u001b[39;00m \u001b[38;5;28msuper\u001b[39m()\u001b[38;5;241m.\u001b[39mfind_class(mod_name, name)\n",
      "\u001b[0;31mModuleNotFoundError\u001b[0m: No module named 'models'"
     ]
    }
   ],
   "source": [
    "classifier = torch.load(\"final_models/best_eval_epoch__192563_goemotions_lstm_model.pt\", map_location=torch.device('cpu'))\n",
    "lstm_goem_model = LSTMClassifier(**classifier['model_config'])\n",
    "lstm_goem_model.load_state_dict(classifier['model'])"
   ]
  },
  {
   "cell_type": "markdown",
   "metadata": {},
   "source": [
    "Very simple to then run the pipeline on the dataset test split.\n",
    "- c.5k items so can be run on a decent CPU in a few minutes (E.g. 3.5 mins on a 11th gen i7 laptop)\n",
    "- (will take signifcantly longer on a free Colab instance's 2 core CPU)\n",
    "- or of course via a GPU in seconds. "
   ]
  },
  {
   "cell_type": "code",
   "execution_count": 20,
   "metadata": {},
   "outputs": [
    {
     "name": "stdout",
     "output_type": "stream",
     "text": [
      "I’m really sorry about your situation :( Although I love the names Sapphira, Cirilla, and Scarlett! True:  sadness Pred:  remorse\n",
      "It's wonderful because it's awful. At not with. True:  admiration Pred:  admiration\n",
      "Kings fan here, good luck to you guys! Will be an interesting game to watch!  True:  excitement Pred:  excitement\n",
      "I didn't know that, thank you for teaching me something today! True:  gratitude Pred:  gratitude\n"
     ]
    }
   ],
   "source": [
    "goemotions_pytorch = GoEmotionsDataset(split=split_name)\n",
    "dataloaders = torch.utils.data.DataLoader(goemotions_pytorch, batch_size=1, shuffle=False)\n",
    "for i, (inputs, targets,_) in enumerate(dataloaders):\n",
    "    print(text[i],\"True: \", label_names[targets], \"Pred: \", label_names[torch.argmax(lstm_goem_model(inputs))])\n",
    "    if i == 3:\n",
    "        break"
   ]
  },
  {
   "cell_type": "code",
   "execution_count": 21,
   "metadata": {},
   "outputs": [
    {
     "name": "stderr",
     "output_type": "stream",
     "text": [
      "100%|██████████| 22/22 [02:38<00:00,  7.22s/it]"
     ]
    },
    {
     "name": "stdout",
     "output_type": "stream",
     "text": [
      "0.41\n"
     ]
    },
    {
     "name": "stderr",
     "output_type": "stream",
     "text": [
      "\n"
     ]
    }
   ],
   "source": [
    "dataloaders = torch.utils.data.DataLoader(goemotions_pytorch, batch_size=256, shuffle=False)\n",
    "model = lstm_goem_model\n",
    "model.eval()\n",
    "test_loss = 0\n",
    "correct_predictions = 0\n",
    "total_predictions = 0\n",
    "model_outputs = []\n",
    "for input, labels, masks in tqdm(dataloaders):\n",
    "    output = model(input)\n",
    "    for outputi in output:\n",
    "        model_outputs.append(F.softmax(outputi, dim=0).detach().numpy())\n",
    "    correct_predictions += (output.argmax(dim=1) == labels).sum().item()\n",
    "    total_predictions += labels.size(0)\n",
    "accuracy = correct_predictions / total_predictions\n",
    "print(f\"{accuracy:0.2f}\")"
   ]
  },
  {
   "cell_type": "markdown",
   "metadata": {},
   "source": [
    "The model gave us floating point outputs for each label for each item, as a list of dicts. We need to arrange these into an array to be able to easily compare them with the dataset values. These values are sometimes known as probabilities (or `probas` for short) - but note, although these values are quantitative and can be compared to an extent (as we will), they are not really probabilities in any real statistical sense. \n",
    "\n",
    "We still need to convert these to binary prediction (`preds`) to be able to compare them to the `y_target` values from the dataset, but since the best threshold value to use to convert them is not yet known, we'll keep the float values."
   ]
  },
  {
   "cell_type": "code",
   "execution_count": 38,
   "metadata": {},
   "outputs": [
    {
     "name": "stdout",
     "output_type": "stream",
     "text": [
      "[6.07392890e-03 2.76394165e-03 1.42453599e-03 3.59597849e-03\n",
      " 4.65084473e-03 3.14846169e-03 2.34079926e-04 2.19211914e-04\n",
      " 3.17599537e-04 8.05281289e-03 1.82780274e-03 5.43372566e-03\n",
      " 1.39250467e-02 4.58071154e-04 8.00194102e-04 3.89057980e-03\n",
      " 1.17183160e-02 3.29522323e-03 1.92303658e-01 8.04665149e-04\n",
      " 6.69827592e-03 1.05778845e-05 2.09814794e-02 1.27423646e-05\n",
      " 5.71745157e-01 1.33132935e-01 8.06262135e-04 1.67384173e-03]\n"
     ]
    }
   ],
   "source": [
    "print(model_outputs[0])\n",
    "y_probas_all = np.zeros((num_items, num_labels), dtype=float)\n",
    "for i, item_probas in enumerate(model_outputs):\n",
    "    label_index = np.argmax(item_probas)  \n",
    "    score = item_probas[label_index]  \n",
    "    y_probas_all[i, label_index] = score"
   ]
  },
  {
   "cell_type": "code",
   "execution_count": 41,
   "metadata": {},
   "outputs": [
    {
     "name": "stdout",
     "output_type": "stream",
     "text": [
      "{'text': 'Less than 75 years ago my grandparents had swastikas burned on their front lawn in South Carolina after fleeing from Germany.', 'labels': [27], 'id': 'eeeublc', 'input_ids': [101, 2625, 2084, 4293, 2086, 3283, 2026, 14472, 2018, 25430, 14083, 7556, 2015, 5296, 2006, 2037, 2392, 10168, 1999, 2148, 3792, 2044, 14070, 2013, 2762, 1012, 102, 0, 0, 0, 0, 0, 0, 0, 0, 0, 0, 0, 0, 0, 0, 0, 0, 0, 0, 0, 0, 0, 0, 0, 0, 0, 0, 0, 0, 0, 0, 0, 0, 0, 0, 0, 0, 0, 0, 0, 0, 0, 0, 0, 0, 0, 0, 0, 0, 0, 0, 0, 0, 0, 0, 0, 0, 0, 0, 0, 0, 0, 0, 0, 0, 0, 0, 0, 0, 0, 0, 0, 0, 0, 0, 0, 0, 0, 0, 0, 0, 0, 0, 0, 0, 0, 0, 0, 0, 0, 0, 0, 0, 0, 0, 0, 0, 0, 0, 0, 0, 0], 'token_type_ids': [0, 0, 0, 0, 0, 0, 0, 0, 0, 0, 0, 0, 0, 0, 0, 0, 0, 0, 0, 0, 0, 0, 0, 0, 0, 0, 0, 0, 0, 0, 0, 0, 0, 0, 0, 0, 0, 0, 0, 0, 0, 0, 0, 0, 0, 0, 0, 0, 0, 0, 0, 0, 0, 0, 0, 0, 0, 0, 0, 0, 0, 0, 0, 0, 0, 0, 0, 0, 0, 0, 0, 0, 0, 0, 0, 0, 0, 0, 0, 0, 0, 0, 0, 0, 0, 0, 0, 0, 0, 0, 0, 0, 0, 0, 0, 0, 0, 0, 0, 0, 0, 0, 0, 0, 0, 0, 0, 0, 0, 0, 0, 0, 0, 0, 0, 0, 0, 0, 0, 0, 0, 0, 0, 0, 0, 0, 0, 0], 'attention_mask': [1, 1, 1, 1, 1, 1, 1, 1, 1, 1, 1, 1, 1, 1, 1, 1, 1, 1, 1, 1, 1, 1, 1, 1, 1, 1, 1, 0, 0, 0, 0, 0, 0, 0, 0, 0, 0, 0, 0, 0, 0, 0, 0, 0, 0, 0, 0, 0, 0, 0, 0, 0, 0, 0, 0, 0, 0, 0, 0, 0, 0, 0, 0, 0, 0, 0, 0, 0, 0, 0, 0, 0, 0, 0, 0, 0, 0, 0, 0, 0, 0, 0, 0, 0, 0, 0, 0, 0, 0, 0, 0, 0, 0, 0, 0, 0, 0, 0, 0, 0, 0, 0, 0, 0, 0, 0, 0, 0, 0, 0, 0, 0, 0, 0, 0, 0, 0, 0, 0, 0, 0, 0, 0, 0, 0, 0, 0, 0]}\n",
      "[0.0, 0.0, 0.0, 0.0, 0.0, 0.0, 0.0, 0.0, 0.0, 0.0, 0.0, 0.0, 0.0, 0.0, 0.0, 0.0, 0.0, 0.0, 0.0, 0.0, 0.0, 0.0, 0.0, 0.0, 0.0, 0.0, 0.0, 0.0]\n",
      "Top label proba is label number 8 (desire): 0.48188671469688416\n"
     ]
    }
   ],
   "source": [
    "model_outputs = np.array(model_outputs).reshape(-1, 28)\n",
    "i = 323\n",
    "print(goemotions[split_name][i])\n",
    "print(np.round(y_probas_all[i]).tolist())\n",
    "top = np.argmax(y_probas_all[i])\n",
    "print(f\"Top label proba is label number {top} ({label_names[top]}): {y_probas_all[i][top]}\")"
   ]
  },
  {
   "cell_type": "markdown",
   "metadata": {},
   "source": [
    "### Evalutation"
   ]
  },
  {
   "cell_type": "markdown",
   "metadata": {},
   "source": [
    "We'll use good old SKLearn for evaluation here because it's super well known and simple. You could use something else, such as Huggingface Evaluate if you prefer."
   ]
  },
  {
   "cell_type": "code",
   "execution_count": 27,
   "metadata": {},
   "outputs": [],
   "source": [
    "from sklearn import metrics\n",
    "from sklearn.metrics import roc_auc_score\n",
    "from sklearn.metrics import confusion_matrix, ConfusionMatrixDisplay"
   ]
  },
  {
   "cell_type": "code",
   "execution_count": 42,
   "metadata": {},
   "outputs": [
    {
     "data": {
      "text/plain": [
       "<sklearn.metrics._plot.confusion_matrix.ConfusionMatrixDisplay at 0x7f2100b44650>"
      ]
     },
     "execution_count": 42,
     "metadata": {},
     "output_type": "execute_result"
    },
    {
     "data": {
      "image/png": "[encoded data removed]",
      "text/plain": [
       "<Figure size 640x480 with 2 Axes>"
      ]
     },
     "metadata": {},
     "output_type": "display_data"
    }
   ],
   "source": [
    "preds = np.argmax(y_probas_all, axis=1)\n",
    "targets = np.argmax(y_targets_all, axis=1)\n",
    "cm = confusion_matrix(targets, preds)\n",
    "disp = ConfusionMatrixDisplay(confusion_matrix=cm, display_labels=label_names)\n",
    "disp.plot(xticks_rotation='vertical', values_format='d', include_values=False)"
   ]
  },
  {
   "cell_type": "code",
   "execution_count": 43,
   "metadata": {},
   "outputs": [
    {
     "name": "stdout",
     "output_type": "stream",
     "text": [
      "AUC: 0.5016353142493535\n",
      "                precision    recall  f1-score   support\n",
      "\n",
      "    admiration       0.11      0.05      0.07       504\n",
      "     amusement       0.05      0.05      0.05       264\n",
      "         anger       0.05      0.04      0.04       198\n",
      "     annoyance       0.05      0.01      0.01       320\n",
      "      approval       0.09      0.03      0.05       351\n",
      "        caring       0.01      0.01      0.01       135\n",
      "     confusion       0.04      0.03      0.03       153\n",
      "     curiosity       0.08      0.06      0.07       284\n",
      "        desire       0.01      0.01      0.01        83\n",
      "disappointment       0.00      0.00      0.00       151\n",
      "   disapproval       0.04      0.02      0.03       267\n",
      "       disgust       0.04      0.02      0.03       123\n",
      " embarrassment       0.00      0.00      0.00        37\n",
      "    excitement       0.05      0.05      0.05       103\n",
      "          fear       0.01      0.01      0.01        78\n",
      "     gratitude       0.05      0.05      0.05       352\n",
      "         grief       0.00      0.00      0.00         6\n",
      "           joy       0.05      0.04      0.04       161\n",
      "          love       0.05      0.05      0.05       238\n",
      "   nervousness       0.00      0.00      0.00        23\n",
      "      optimism       0.04      0.02      0.03       186\n",
      "         pride       0.00      0.00      0.00        16\n",
      "   realization       0.03      0.01      0.02       145\n",
      "        relief       0.00      0.00      0.00        11\n",
      "       remorse       0.01      0.02      0.02        56\n",
      "       sadness       0.04      0.03      0.03       156\n",
      "      surprise       0.03      0.03      0.03       141\n",
      "       neutral       0.34      0.02      0.04      1787\n",
      "\n",
      "     micro avg       0.06      0.03      0.04      6329\n",
      "     macro avg       0.05      0.02      0.03      6329\n",
      "  weighted avg       0.13      0.03      0.04      6329\n",
      "   samples avg       0.03      0.03      0.03      6329\n",
      "\n"
     ]
    },
    {
     "name": "stderr",
     "output_type": "stream",
     "text": [
      "/home/mhassa2s/miniconda3/envs/nlp-proj/lib/python3.11/site-packages/sklearn/metrics/_classification.py:1517: UndefinedMetricWarning: Precision is ill-defined and being set to 0.0 in samples with no predicted labels. Use `zero_division` parameter to control this behavior.\n",
      "  _warn_prf(average, modifier, f\"{metric.capitalize()} is\", len(result))\n"
     ]
    }
   ],
   "source": [
    "auc = roc_auc_score(y_targets_all, y_probas_all, average='macro')\n",
    "print(f\"AUC: {auc}\")\n",
    "report = metrics.classification_report(y_targets_all, model_outputs > 0.5, target_names=label_names)\n",
    "print(report)"
   ]
  },
  {
   "cell_type": "markdown",
   "metadata": {},
   "source": [
    "We can see the metrics at a threshold of 0.5 (which intuitively seems like the right one to use).\n",
    "\n",
    "Should ignore accuracy because it isn't really helpful when applied per item for a multi-label dataset E.g. if there are 3 positive labels for a particular item but the model only gets 2 of them, accuracy will treat that as a 0/fail, not a partial success."
   ]
  },
  {
   "cell_type": "code",
   "execution_count": 44,
   "metadata": {},
   "outputs": [
    {
     "name": "stdout",
     "output_type": "stream",
     "text": [
      "Overall (macro)\n",
      "===============\n",
      "Accuracy: 0.025\n",
      "Precision: 0.045\n",
      "Recall: 0.023\n",
      "F1: 0.027\n"
     ]
    }
   ],
   "source": [
    "threshold = 0.5\n",
    "y_preds_all = y_probas_all > threshold\n",
    "\n",
    "print(\"Overall (macro)\")\n",
    "print(\"===============\")\n",
    "print(f\"Accuracy: {metrics.accuracy_score(y_targets_all, y_preds_all):.3f}\")\n",
    "print(f\"Precision: {metrics.precision_score(y_targets_all, y_preds_all, average='macro', zero_division=0):.3f}\")\n",
    "print(f\"Recall: {metrics.recall_score(y_targets_all, y_preds_all, average='macro', zero_division=0):.3f}\")\n",
    "print(f\"F1: {metrics.f1_score(y_targets_all, y_preds_all, average='macro', zero_division=0):.3f}\")"
   ]
  },
  {
   "cell_type": "markdown",
   "metadata": {},
   "source": [
    "And now per label (which is more meaningful for a multi-label, multiclass dataset such as this)\n",
    "\n",
    "Note the support for certain labels is tiny - grief has 6 positives in the dataset test split (out of c5.4k items). So measurement of the test set for such labels is meaningless, and anyway (given there is a similarly tiny number in the training split) unsurprisingly the model fails to predict positives for such labels since it's been trained on overwhelmling negative examples.\n",
    "\n",
    "We really should prune any labels with less than (for example) 50 positive examples in the training split (which is significantly bigger than the test split we are looking at here), or we should augment the data synthetically for these tiny/scarce labels to allow the model to learn these signals.\n",
    "\n",
    "However, they have been left in here for visibility."
   ]
  },
  {
   "cell_type": "code",
   "execution_count": 17,
   "metadata": {},
   "outputs": [],
   "source": [
    "def calc_label_metrics(label, y_targets, y_preds, threshold):\n",
    "    return {\n",
    "        \"label\": label,\n",
    "        \"accuracy\": metrics.accuracy_score(y_targets, y_preds),\n",
    "        \"precision\": metrics.precision_score(y_targets, y_preds, zero_division=0),\n",
    "        \"recall\": metrics.recall_score(y_targets, y_preds, zero_division=0),\n",
    "        \"f1\": metrics.f1_score(y_targets, y_preds, zero_division=0),\n",
    "        \"mcc\": metrics.matthews_corrcoef(y_targets, y_preds),\n",
    "        \"support\": y_targets.sum(),\n",
    "        \"threshold\": threshold,\n",
    "    }"
   ]
  },
  {
   "cell_type": "code",
   "execution_count": 18,
   "metadata": {},
   "outputs": [
    {
     "data": {
      "text/html": [
       "<div>\n",
       "<style scoped>\n",
       "    .dataframe tbody tr th:only-of-type {\n",
       "        vertical-align: middle;\n",
       "    }\n",
       "\n",
       "    .dataframe tbody tr th {\n",
       "        vertical-align: top;\n",
       "    }\n",
       "\n",
       "    .dataframe thead th {\n",
       "        text-align: right;\n",
       "    }\n",
       "</style>\n",
       "<table border=\"1\" class=\"dataframe\">\n",
       "  <thead>\n",
       "    <tr style=\"text-align: right;\">\n",
       "      <th></th>\n",
       "      <th>accuracy</th>\n",
       "      <th>precision</th>\n",
       "      <th>recall</th>\n",
       "      <th>f1</th>\n",
       "      <th>mcc</th>\n",
       "      <th>support</th>\n",
       "      <th>threshold</th>\n",
       "    </tr>\n",
       "  </thead>\n",
       "  <tbody>\n",
       "    <tr>\n",
       "      <th>admiration</th>\n",
       "      <td>0.877</td>\n",
       "      <td>0.122</td>\n",
       "      <td>0.052</td>\n",
       "      <td>0.073</td>\n",
       "      <td>0.020</td>\n",
       "      <td>504</td>\n",
       "      <td>0.5</td>\n",
       "    </tr>\n",
       "    <tr>\n",
       "      <th>amusement</th>\n",
       "      <td>0.912</td>\n",
       "      <td>0.054</td>\n",
       "      <td>0.049</td>\n",
       "      <td>0.051</td>\n",
       "      <td>0.005</td>\n",
       "      <td>264</td>\n",
       "      <td>0.5</td>\n",
       "    </tr>\n",
       "    <tr>\n",
       "      <th>anger</th>\n",
       "      <td>0.946</td>\n",
       "      <td>0.056</td>\n",
       "      <td>0.030</td>\n",
       "      <td>0.039</td>\n",
       "      <td>0.015</td>\n",
       "      <td>198</td>\n",
       "      <td>0.5</td>\n",
       "    </tr>\n",
       "    <tr>\n",
       "      <th>annoyance</th>\n",
       "      <td>0.938</td>\n",
       "      <td>0.000</td>\n",
       "      <td>0.000</td>\n",
       "      <td>0.000</td>\n",
       "      <td>-0.013</td>\n",
       "      <td>320</td>\n",
       "      <td>0.5</td>\n",
       "    </tr>\n",
       "    <tr>\n",
       "      <th>approval</th>\n",
       "      <td>0.918</td>\n",
       "      <td>0.056</td>\n",
       "      <td>0.017</td>\n",
       "      <td>0.026</td>\n",
       "      <td>-0.005</td>\n",
       "      <td>351</td>\n",
       "      <td>0.5</td>\n",
       "    </tr>\n",
       "    <tr>\n",
       "      <th>caring</th>\n",
       "      <td>0.956</td>\n",
       "      <td>0.009</td>\n",
       "      <td>0.007</td>\n",
       "      <td>0.008</td>\n",
       "      <td>-0.014</td>\n",
       "      <td>135</td>\n",
       "      <td>0.5</td>\n",
       "    </tr>\n",
       "    <tr>\n",
       "      <th>confusion</th>\n",
       "      <td>0.953</td>\n",
       "      <td>0.045</td>\n",
       "      <td>0.033</td>\n",
       "      <td>0.038</td>\n",
       "      <td>0.014</td>\n",
       "      <td>153</td>\n",
       "      <td>0.5</td>\n",
       "    </tr>\n",
       "    <tr>\n",
       "      <th>curiosity</th>\n",
       "      <td>0.915</td>\n",
       "      <td>0.077</td>\n",
       "      <td>0.056</td>\n",
       "      <td>0.065</td>\n",
       "      <td>0.022</td>\n",
       "      <td>284</td>\n",
       "      <td>0.5</td>\n",
       "    </tr>\n",
       "    <tr>\n",
       "      <th>desire</th>\n",
       "      <td>0.969</td>\n",
       "      <td>0.022</td>\n",
       "      <td>0.024</td>\n",
       "      <td>0.023</td>\n",
       "      <td>0.008</td>\n",
       "      <td>83</td>\n",
       "      <td>0.5</td>\n",
       "    </tr>\n",
       "    <tr>\n",
       "      <th>disappointment</th>\n",
       "      <td>0.961</td>\n",
       "      <td>0.000</td>\n",
       "      <td>0.000</td>\n",
       "      <td>0.000</td>\n",
       "      <td>-0.018</td>\n",
       "      <td>151</td>\n",
       "      <td>0.5</td>\n",
       "    </tr>\n",
       "    <tr>\n",
       "      <th>disapproval</th>\n",
       "      <td>0.918</td>\n",
       "      <td>0.027</td>\n",
       "      <td>0.019</td>\n",
       "      <td>0.022</td>\n",
       "      <td>-0.019</td>\n",
       "      <td>267</td>\n",
       "      <td>0.5</td>\n",
       "    </tr>\n",
       "    <tr>\n",
       "      <th>disgust</th>\n",
       "      <td>0.964</td>\n",
       "      <td>0.026</td>\n",
       "      <td>0.016</td>\n",
       "      <td>0.020</td>\n",
       "      <td>0.003</td>\n",
       "      <td>123</td>\n",
       "      <td>0.5</td>\n",
       "    </tr>\n",
       "    <tr>\n",
       "      <th>embarrassment</th>\n",
       "      <td>0.987</td>\n",
       "      <td>0.000</td>\n",
       "      <td>0.000</td>\n",
       "      <td>0.000</td>\n",
       "      <td>-0.007</td>\n",
       "      <td>37</td>\n",
       "      <td>0.5</td>\n",
       "    </tr>\n",
       "    <tr>\n",
       "      <th>excitement</th>\n",
       "      <td>0.967</td>\n",
       "      <td>0.000</td>\n",
       "      <td>0.000</td>\n",
       "      <td>0.000</td>\n",
       "      <td>-0.016</td>\n",
       "      <td>103</td>\n",
       "      <td>0.5</td>\n",
       "    </tr>\n",
       "    <tr>\n",
       "      <th>fear</th>\n",
       "      <td>0.970</td>\n",
       "      <td>0.011</td>\n",
       "      <td>0.013</td>\n",
       "      <td>0.012</td>\n",
       "      <td>-0.003</td>\n",
       "      <td>78</td>\n",
       "      <td>0.5</td>\n",
       "    </tr>\n",
       "    <tr>\n",
       "      <th>gratitude</th>\n",
       "      <td>0.886</td>\n",
       "      <td>0.050</td>\n",
       "      <td>0.043</td>\n",
       "      <td>0.046</td>\n",
       "      <td>-0.014</td>\n",
       "      <td>352</td>\n",
       "      <td>0.5</td>\n",
       "    </tr>\n",
       "    <tr>\n",
       "      <th>grief</th>\n",
       "      <td>0.997</td>\n",
       "      <td>0.000</td>\n",
       "      <td>0.000</td>\n",
       "      <td>0.000</td>\n",
       "      <td>-0.001</td>\n",
       "      <td>6</td>\n",
       "      <td>0.5</td>\n",
       "    </tr>\n",
       "    <tr>\n",
       "      <th>joy</th>\n",
       "      <td>0.952</td>\n",
       "      <td>0.010</td>\n",
       "      <td>0.006</td>\n",
       "      <td>0.008</td>\n",
       "      <td>-0.016</td>\n",
       "      <td>161</td>\n",
       "      <td>0.5</td>\n",
       "    </tr>\n",
       "    <tr>\n",
       "      <th>love</th>\n",
       "      <td>0.915</td>\n",
       "      <td>0.052</td>\n",
       "      <td>0.055</td>\n",
       "      <td>0.053</td>\n",
       "      <td>0.009</td>\n",
       "      <td>238</td>\n",
       "      <td>0.5</td>\n",
       "    </tr>\n",
       "    <tr>\n",
       "      <th>nervousness</th>\n",
       "      <td>0.993</td>\n",
       "      <td>0.000</td>\n",
       "      <td>0.000</td>\n",
       "      <td>0.000</td>\n",
       "      <td>-0.004</td>\n",
       "      <td>23</td>\n",
       "      <td>0.5</td>\n",
       "    </tr>\n",
       "    <tr>\n",
       "      <th>optimism</th>\n",
       "      <td>0.951</td>\n",
       "      <td>0.024</td>\n",
       "      <td>0.011</td>\n",
       "      <td>0.015</td>\n",
       "      <td>-0.007</td>\n",
       "      <td>186</td>\n",
       "      <td>0.5</td>\n",
       "    </tr>\n",
       "    <tr>\n",
       "      <th>pride</th>\n",
       "      <td>0.994</td>\n",
       "      <td>0.000</td>\n",
       "      <td>0.000</td>\n",
       "      <td>0.000</td>\n",
       "      <td>-0.003</td>\n",
       "      <td>16</td>\n",
       "      <td>0.5</td>\n",
       "    </tr>\n",
       "    <tr>\n",
       "      <th>realization</th>\n",
       "      <td>0.962</td>\n",
       "      <td>0.016</td>\n",
       "      <td>0.007</td>\n",
       "      <td>0.010</td>\n",
       "      <td>-0.007</td>\n",
       "      <td>145</td>\n",
       "      <td>0.5</td>\n",
       "    </tr>\n",
       "    <tr>\n",
       "      <th>relief</th>\n",
       "      <td>0.993</td>\n",
       "      <td>0.000</td>\n",
       "      <td>0.000</td>\n",
       "      <td>0.000</td>\n",
       "      <td>-0.003</td>\n",
       "      <td>11</td>\n",
       "      <td>0.5</td>\n",
       "    </tr>\n",
       "    <tr>\n",
       "      <th>remorse</th>\n",
       "      <td>0.977</td>\n",
       "      <td>0.014</td>\n",
       "      <td>0.018</td>\n",
       "      <td>0.016</td>\n",
       "      <td>0.004</td>\n",
       "      <td>56</td>\n",
       "      <td>0.5</td>\n",
       "    </tr>\n",
       "    <tr>\n",
       "      <th>sadness</th>\n",
       "      <td>0.957</td>\n",
       "      <td>0.000</td>\n",
       "      <td>0.000</td>\n",
       "      <td>0.000</td>\n",
       "      <td>-0.021</td>\n",
       "      <td>156</td>\n",
       "      <td>0.5</td>\n",
       "    </tr>\n",
       "    <tr>\n",
       "      <th>surprise</th>\n",
       "      <td>0.953</td>\n",
       "      <td>0.017</td>\n",
       "      <td>0.014</td>\n",
       "      <td>0.016</td>\n",
       "      <td>-0.008</td>\n",
       "      <td>141</td>\n",
       "      <td>0.5</td>\n",
       "    </tr>\n",
       "    <tr>\n",
       "      <th>neutral</th>\n",
       "      <td>0.663</td>\n",
       "      <td>0.304</td>\n",
       "      <td>0.017</td>\n",
       "      <td>0.033</td>\n",
       "      <td>-0.007</td>\n",
       "      <td>1787</td>\n",
       "      <td>0.5</td>\n",
       "    </tr>\n",
       "  </tbody>\n",
       "</table>\n",
       "</div>"
      ],
      "text/plain": [
       "                accuracy  precision  recall     f1    mcc  support  threshold\n",
       "admiration         0.877      0.122   0.052  0.073  0.020      504        0.5\n",
       "amusement          0.912      0.054   0.049  0.051  0.005      264        0.5\n",
       "anger              0.946      0.056   0.030  0.039  0.015      198        0.5\n",
       "annoyance          0.938      0.000   0.000  0.000 -0.013      320        0.5\n",
       "approval           0.918      0.056   0.017  0.026 -0.005      351        0.5\n",
       "caring             0.956      0.009   0.007  0.008 -0.014      135        0.5\n",
       "confusion          0.953      0.045   0.033  0.038  0.014      153        0.5\n",
       "curiosity          0.915      0.077   0.056  0.065  0.022      284        0.5\n",
       "desire             0.969      0.022   0.024  0.023  0.008       83        0.5\n",
       "disappointment     0.961      0.000   0.000  0.000 -0.018      151        0.5\n",
       "disapproval        0.918      0.027   0.019  0.022 -0.019      267        0.5\n",
       "disgust            0.964      0.026   0.016  0.020  0.003      123        0.5\n",
       "embarrassment      0.987      0.000   0.000  0.000 -0.007       37        0.5\n",
       "excitement         0.967      0.000   0.000  0.000 -0.016      103        0.5\n",
       "fear               0.970      0.011   0.013  0.012 -0.003       78        0.5\n",
       "gratitude          0.886      0.050   0.043  0.046 -0.014      352        0.5\n",
       "grief              0.997      0.000   0.000  0.000 -0.001        6        0.5\n",
       "joy                0.952      0.010   0.006  0.008 -0.016      161        0.5\n",
       "love               0.915      0.052   0.055  0.053  0.009      238        0.5\n",
       "nervousness        0.993      0.000   0.000  0.000 -0.004       23        0.5\n",
       "optimism           0.951      0.024   0.011  0.015 -0.007      186        0.5\n",
       "pride              0.994      0.000   0.000  0.000 -0.003       16        0.5\n",
       "realization        0.962      0.016   0.007  0.010 -0.007      145        0.5\n",
       "relief             0.993      0.000   0.000  0.000 -0.003       11        0.5\n",
       "remorse            0.977      0.014   0.018  0.016  0.004       56        0.5\n",
       "sadness            0.957      0.000   0.000  0.000 -0.021      156        0.5\n",
       "surprise           0.953      0.017   0.014  0.016 -0.008      141        0.5\n",
       "neutral            0.663      0.304   0.017  0.033 -0.007     1787        0.5"
      ]
     },
     "metadata": {},
     "output_type": "display_data"
    }
   ],
   "source": [
    "threshold = 0.5\n",
    "model_outputs_array = np.array(model_outputs)\n",
    "y_preds_all = (model_outputs_array > threshold).astype(int)\n",
    "results = []\n",
    "for label_index, label in enumerate(label_names):\n",
    "    y_targets, y_preds = y_targets_all[:, label_index], y_preds_all[:, label_index]\n",
    "    results.append(calc_label_metrics(label, y_targets, y_preds, threshold))\n",
    "\n",
    "per_label_results = pd.DataFrame(results, index=label_names)\n",
    "display(per_label_results.drop(columns=[\"label\"]).round(3))"
   ]
  },
  {
   "cell_type": "markdown",
   "metadata": {},
   "source": [
    "Note, should probably ignore accuracy metric again, but in this case at the per-label level a multi-label dataset has a huge number of true negatives which make the accuracy figure pretty meaningless. E.g. in a situation where there are 10 positive items and 990 negative items, if a model simply predicts negative for everything, its accuracy figure still appears very high (0.99) even though its clearly not performing to a useful level."
   ]
  },
  {
   "cell_type": "code",
   "execution_count": null,
   "metadata": {},
   "outputs": [
    {
     "ename": "NameError",
     "evalue": "name 'per_label_results' is not defined",
     "output_type": "error",
     "traceback": [
      "\u001b[0;31m---------------------------------------------------------------------------\u001b[0m",
      "\u001b[0;31mNameError\u001b[0m                                 Traceback (most recent call last)",
      "Cell \u001b[0;32mIn[47], line 2\u001b[0m\n\u001b[1;32m      1\u001b[0m per_label_results[\u001b[38;5;124m\"\u001b[39m\u001b[38;5;124mlabel (support)\u001b[39m\u001b[38;5;124m\"\u001b[39m] \u001b[38;5;241m=\u001b[39m (\n\u001b[0;32m----> 2\u001b[0m     \u001b[43mper_label_results\u001b[49m\u001b[38;5;241m.\u001b[39mindex \u001b[38;5;241m+\u001b[39m \u001b[38;5;124m\"\u001b[39m\u001b[38;5;124m (\u001b[39m\u001b[38;5;124m\"\u001b[39m \u001b[38;5;241m+\u001b[39m per_label_results[\u001b[38;5;124m\"\u001b[39m\u001b[38;5;124msupport\u001b[39m\u001b[38;5;124m\"\u001b[39m]\u001b[38;5;241m.\u001b[39mastype(\u001b[38;5;28mstr\u001b[39m) \u001b[38;5;241m+\u001b[39m \u001b[38;5;124m\"\u001b[39m\u001b[38;5;124m)\u001b[39m\u001b[38;5;124m\"\u001b[39m\n\u001b[1;32m      3\u001b[0m )\n\u001b[1;32m      4\u001b[0m ax \u001b[38;5;241m=\u001b[39m per_label_results\u001b[38;5;241m.\u001b[39msort_values(by\u001b[38;5;241m=\u001b[39m\u001b[38;5;124m\"\u001b[39m\u001b[38;5;124msupport\u001b[39m\u001b[38;5;124m\"\u001b[39m)\u001b[38;5;241m.\u001b[39mplot\u001b[38;5;241m.\u001b[39mbar(\n\u001b[1;32m      5\u001b[0m     x\u001b[38;5;241m=\u001b[39m\u001b[38;5;124m\"\u001b[39m\u001b[38;5;124mlabel (support)\u001b[39m\u001b[38;5;124m\"\u001b[39m,\n\u001b[1;32m      6\u001b[0m     y\u001b[38;5;241m=\u001b[39m[\u001b[38;5;124m\"\u001b[39m\u001b[38;5;124mf1\u001b[39m\u001b[38;5;124m\"\u001b[39m],\n\u001b[0;32m   (...)\u001b[0m\n\u001b[1;32m      9\u001b[0m     figsize\u001b[38;5;241m=\u001b[39m(\u001b[38;5;241m11\u001b[39m,\u001b[38;5;241m3\u001b[39m),\n\u001b[1;32m     10\u001b[0m )\n\u001b[1;32m     11\u001b[0m ax\u001b[38;5;241m.\u001b[39mtick_params(axis\u001b[38;5;241m=\u001b[39m\u001b[38;5;124m'\u001b[39m\u001b[38;5;124mx\u001b[39m\u001b[38;5;124m'\u001b[39m, which\u001b[38;5;241m=\u001b[39m\u001b[38;5;124m'\u001b[39m\u001b[38;5;124mmajor\u001b[39m\u001b[38;5;124m'\u001b[39m, labelsize\u001b[38;5;241m=\u001b[39m\u001b[38;5;241m8\u001b[39m)\n",
      "\u001b[0;31mNameError\u001b[0m: name 'per_label_results' is not defined"
     ]
    }
   ],
   "source": [
    "per_label_results[\"label (support)\"] = (\n",
    "    per_label_results.index + \" (\" + per_label_results[\"support\"].astype(str) + \")\"\n",
    ")\n",
    "ax = per_label_results.sort_values(by=\"support\").plot.bar(\n",
    "    x=\"label (support)\",\n",
    "    y=[\"f1\"],\n",
    "    rot=90,\n",
    "    title=\"F1 (sorted by label support) @ 0.5 threshold\",\n",
    "    figsize=(11,3),\n",
    ")\n",
    "ax.tick_params(axis='x', which='major', labelsize=8)\n",
    "ax.axes.xaxis.label.set_text(f\"label (support, in {split_name} split)\")\n",
    "plt.show()"
   ]
  },
  {
   "cell_type": "markdown",
   "metadata": {},
   "source": [
    "We can recreate dataset-wide metrics from per-label metrics, which will prove useful later."
   ]
  },
  {
   "cell_type": "code",
   "execution_count": null,
   "metadata": {},
   "outputs": [
    {
     "name": "stdout",
     "output_type": "stream",
     "text": [
      "Simple mean of labels: {'precision': 0.042, 'recall': 0.56, 'f1': 0.074, 'mcc': 0.003}\n",
      "Weighted average (using support): {'precision': 0.127, 'recall': 0.754, 'f1': 0.202, 'mcc': 0.003}\n"
     ]
    }
   ],
   "source": [
    "def dataset_wide_metrics(df):\n",
    "    simple_mean = {\n",
    "        m: round(df[m].mean(), 3)\n",
    "        for m in [\"precision\", \"recall\", \"f1\", \"mcc\"]\n",
    "    }\n",
    "    print(\"Simple mean of labels:\", simple_mean)\n",
    "    weighted = {\n",
    "        m: round(sum(df[m] * df[\"support\"]) / df[\"support\"].sum(), 3)\n",
    "        for m in [\"precision\", \"recall\", \"f1\", \"mcc\"]\n",
    "    }\n",
    "    print(\"Weighted average (using support):\", weighted)\n",
    "    return simple_mean, weighted\n",
    "\n",
    "_ = dataset_wide_metrics(per_label_results)"
   ]
  },
  {
   "cell_type": "markdown",
   "metadata": {},
   "source": [
    "So, now lets do a crude search for how the metrics vary by threshold, rather than naively setting it at 0.5 as above"
   ]
  },
  {
   "cell_type": "code",
   "execution_count": null,
   "metadata": {},
   "outputs": [
    {
     "name": "stderr",
     "output_type": "stream",
     "text": [
      "100%|██████████| 19/19 [00:16<00:00,  1.15it/s]\n"
     ]
    }
   ],
   "source": [
    "threshold_results = {}\n",
    "for t in tqdm(range(5, 100, 5)):\n",
    "    threshold = t / 100\n",
    "    y_preds_all = (y_probas_all > threshold).astype(int)\n",
    "    threshold_results[threshold] = []\n",
    "    for label_index, label in enumerate(labels):\n",
    "        y_targets, y_preds = y_targets_all[:, label_index], y_preds_all[:, label_index]\n",
    "        threshold_results[threshold].append(calc_label_metrics(label, y_targets, y_preds, threshold))"
   ]
  },
  {
   "cell_type": "code",
   "execution_count": null,
   "metadata": {},
   "outputs": [
    {
     "data": {
      "text/html": [
       "<div>\n",
       "<style scoped>\n",
       "    .dataframe tbody tr th:only-of-type {\n",
       "        vertical-align: middle;\n",
       "    }\n",
       "\n",
       "    .dataframe tbody tr th {\n",
       "        vertical-align: top;\n",
       "    }\n",
       "\n",
       "    .dataframe thead th {\n",
       "        text-align: right;\n",
       "    }\n",
       "</style>\n",
       "<table border=\"1\" class=\"dataframe\">\n",
       "  <thead>\n",
       "    <tr style=\"text-align: right;\">\n",
       "      <th></th>\n",
       "      <th>accuracy</th>\n",
       "      <th>precision</th>\n",
       "      <th>recall</th>\n",
       "      <th>f1</th>\n",
       "      <th>mcc</th>\n",
       "      <th>support</th>\n",
       "      <th>threshold</th>\n",
       "    </tr>\n",
       "  </thead>\n",
       "  <tbody>\n",
       "    <tr>\n",
       "      <th>admiration</th>\n",
       "      <td>0.907</td>\n",
       "      <td>0.000</td>\n",
       "      <td>0.000</td>\n",
       "      <td>0.000</td>\n",
       "      <td>0.000</td>\n",
       "      <td>504</td>\n",
       "      <td>0.05</td>\n",
       "    </tr>\n",
       "    <tr>\n",
       "      <th>amusement</th>\n",
       "      <td>0.951</td>\n",
       "      <td>0.000</td>\n",
       "      <td>0.000</td>\n",
       "      <td>0.000</td>\n",
       "      <td>0.000</td>\n",
       "      <td>264</td>\n",
       "      <td>0.05</td>\n",
       "    </tr>\n",
       "    <tr>\n",
       "      <th>anger</th>\n",
       "      <td>0.964</td>\n",
       "      <td>0.000</td>\n",
       "      <td>0.000</td>\n",
       "      <td>0.000</td>\n",
       "      <td>0.000</td>\n",
       "      <td>198</td>\n",
       "      <td>0.05</td>\n",
       "    </tr>\n",
       "    <tr>\n",
       "      <th>annoyance</th>\n",
       "      <td>0.941</td>\n",
       "      <td>0.000</td>\n",
       "      <td>0.000</td>\n",
       "      <td>0.000</td>\n",
       "      <td>0.000</td>\n",
       "      <td>320</td>\n",
       "      <td>0.05</td>\n",
       "    </tr>\n",
       "    <tr>\n",
       "      <th>approval</th>\n",
       "      <td>0.935</td>\n",
       "      <td>0.000</td>\n",
       "      <td>0.000</td>\n",
       "      <td>0.000</td>\n",
       "      <td>0.000</td>\n",
       "      <td>351</td>\n",
       "      <td>0.05</td>\n",
       "    </tr>\n",
       "    <tr>\n",
       "      <th>caring</th>\n",
       "      <td>0.975</td>\n",
       "      <td>0.000</td>\n",
       "      <td>0.000</td>\n",
       "      <td>0.000</td>\n",
       "      <td>0.000</td>\n",
       "      <td>135</td>\n",
       "      <td>0.05</td>\n",
       "    </tr>\n",
       "    <tr>\n",
       "      <th>confusion</th>\n",
       "      <td>0.972</td>\n",
       "      <td>0.000</td>\n",
       "      <td>0.000</td>\n",
       "      <td>0.000</td>\n",
       "      <td>0.000</td>\n",
       "      <td>153</td>\n",
       "      <td>0.05</td>\n",
       "    </tr>\n",
       "    <tr>\n",
       "      <th>curiosity</th>\n",
       "      <td>0.948</td>\n",
       "      <td>0.000</td>\n",
       "      <td>0.000</td>\n",
       "      <td>0.000</td>\n",
       "      <td>0.000</td>\n",
       "      <td>284</td>\n",
       "      <td>0.05</td>\n",
       "    </tr>\n",
       "    <tr>\n",
       "      <th>desire</th>\n",
       "      <td>0.985</td>\n",
       "      <td>0.000</td>\n",
       "      <td>0.000</td>\n",
       "      <td>0.000</td>\n",
       "      <td>0.000</td>\n",
       "      <td>83</td>\n",
       "      <td>0.05</td>\n",
       "    </tr>\n",
       "    <tr>\n",
       "      <th>disappointment</th>\n",
       "      <td>0.972</td>\n",
       "      <td>0.000</td>\n",
       "      <td>0.000</td>\n",
       "      <td>0.000</td>\n",
       "      <td>0.000</td>\n",
       "      <td>151</td>\n",
       "      <td>0.05</td>\n",
       "    </tr>\n",
       "    <tr>\n",
       "      <th>disapproval</th>\n",
       "      <td>0.951</td>\n",
       "      <td>0.000</td>\n",
       "      <td>0.000</td>\n",
       "      <td>0.000</td>\n",
       "      <td>0.000</td>\n",
       "      <td>267</td>\n",
       "      <td>0.05</td>\n",
       "    </tr>\n",
       "    <tr>\n",
       "      <th>disgust</th>\n",
       "      <td>0.977</td>\n",
       "      <td>0.000</td>\n",
       "      <td>0.000</td>\n",
       "      <td>0.000</td>\n",
       "      <td>0.000</td>\n",
       "      <td>123</td>\n",
       "      <td>0.05</td>\n",
       "    </tr>\n",
       "    <tr>\n",
       "      <th>embarrassment</th>\n",
       "      <td>0.993</td>\n",
       "      <td>0.000</td>\n",
       "      <td>0.000</td>\n",
       "      <td>0.000</td>\n",
       "      <td>0.000</td>\n",
       "      <td>37</td>\n",
       "      <td>0.05</td>\n",
       "    </tr>\n",
       "    <tr>\n",
       "      <th>excitement</th>\n",
       "      <td>0.981</td>\n",
       "      <td>0.000</td>\n",
       "      <td>0.000</td>\n",
       "      <td>0.000</td>\n",
       "      <td>0.000</td>\n",
       "      <td>103</td>\n",
       "      <td>0.05</td>\n",
       "    </tr>\n",
       "    <tr>\n",
       "      <th>fear</th>\n",
       "      <td>0.986</td>\n",
       "      <td>0.000</td>\n",
       "      <td>0.000</td>\n",
       "      <td>0.000</td>\n",
       "      <td>0.000</td>\n",
       "      <td>78</td>\n",
       "      <td>0.05</td>\n",
       "    </tr>\n",
       "    <tr>\n",
       "      <th>gratitude</th>\n",
       "      <td>0.935</td>\n",
       "      <td>0.000</td>\n",
       "      <td>0.000</td>\n",
       "      <td>0.000</td>\n",
       "      <td>0.000</td>\n",
       "      <td>352</td>\n",
       "      <td>0.05</td>\n",
       "    </tr>\n",
       "    <tr>\n",
       "      <th>grief</th>\n",
       "      <td>0.999</td>\n",
       "      <td>0.000</td>\n",
       "      <td>0.000</td>\n",
       "      <td>0.000</td>\n",
       "      <td>0.000</td>\n",
       "      <td>6</td>\n",
       "      <td>0.05</td>\n",
       "    </tr>\n",
       "    <tr>\n",
       "      <th>joy</th>\n",
       "      <td>0.970</td>\n",
       "      <td>0.000</td>\n",
       "      <td>0.000</td>\n",
       "      <td>0.000</td>\n",
       "      <td>0.000</td>\n",
       "      <td>161</td>\n",
       "      <td>0.05</td>\n",
       "    </tr>\n",
       "    <tr>\n",
       "      <th>love</th>\n",
       "      <td>0.956</td>\n",
       "      <td>0.000</td>\n",
       "      <td>0.000</td>\n",
       "      <td>0.000</td>\n",
       "      <td>0.000</td>\n",
       "      <td>238</td>\n",
       "      <td>0.05</td>\n",
       "    </tr>\n",
       "    <tr>\n",
       "      <th>nervousness</th>\n",
       "      <td>0.996</td>\n",
       "      <td>0.000</td>\n",
       "      <td>0.000</td>\n",
       "      <td>0.000</td>\n",
       "      <td>0.000</td>\n",
       "      <td>23</td>\n",
       "      <td>0.05</td>\n",
       "    </tr>\n",
       "    <tr>\n",
       "      <th>optimism</th>\n",
       "      <td>0.966</td>\n",
       "      <td>0.000</td>\n",
       "      <td>0.000</td>\n",
       "      <td>0.000</td>\n",
       "      <td>0.000</td>\n",
       "      <td>186</td>\n",
       "      <td>0.05</td>\n",
       "    </tr>\n",
       "    <tr>\n",
       "      <th>pride</th>\n",
       "      <td>0.997</td>\n",
       "      <td>0.000</td>\n",
       "      <td>0.000</td>\n",
       "      <td>0.000</td>\n",
       "      <td>0.000</td>\n",
       "      <td>16</td>\n",
       "      <td>0.05</td>\n",
       "    </tr>\n",
       "    <tr>\n",
       "      <th>realization</th>\n",
       "      <td>0.973</td>\n",
       "      <td>0.000</td>\n",
       "      <td>0.000</td>\n",
       "      <td>0.000</td>\n",
       "      <td>0.000</td>\n",
       "      <td>145</td>\n",
       "      <td>0.05</td>\n",
       "    </tr>\n",
       "    <tr>\n",
       "      <th>relief</th>\n",
       "      <td>0.998</td>\n",
       "      <td>0.000</td>\n",
       "      <td>0.000</td>\n",
       "      <td>0.000</td>\n",
       "      <td>0.000</td>\n",
       "      <td>11</td>\n",
       "      <td>0.05</td>\n",
       "    </tr>\n",
       "    <tr>\n",
       "      <th>remorse</th>\n",
       "      <td>0.990</td>\n",
       "      <td>0.000</td>\n",
       "      <td>0.000</td>\n",
       "      <td>0.000</td>\n",
       "      <td>0.000</td>\n",
       "      <td>56</td>\n",
       "      <td>0.05</td>\n",
       "    </tr>\n",
       "    <tr>\n",
       "      <th>sadness</th>\n",
       "      <td>0.971</td>\n",
       "      <td>0.000</td>\n",
       "      <td>0.000</td>\n",
       "      <td>0.000</td>\n",
       "      <td>0.000</td>\n",
       "      <td>156</td>\n",
       "      <td>0.05</td>\n",
       "    </tr>\n",
       "    <tr>\n",
       "      <th>surprise</th>\n",
       "      <td>0.974</td>\n",
       "      <td>0.000</td>\n",
       "      <td>0.000</td>\n",
       "      <td>0.000</td>\n",
       "      <td>0.000</td>\n",
       "      <td>141</td>\n",
       "      <td>0.05</td>\n",
       "    </tr>\n",
       "    <tr>\n",
       "      <th>neutral</th>\n",
       "      <td>0.402</td>\n",
       "      <td>0.325</td>\n",
       "      <td>0.755</td>\n",
       "      <td>0.454</td>\n",
       "      <td>-0.018</td>\n",
       "      <td>1787</td>\n",
       "      <td>0.05</td>\n",
       "    </tr>\n",
       "  </tbody>\n",
       "</table>\n",
       "</div>"
      ],
      "text/plain": [
       "                accuracy  precision  recall     f1    mcc  support  threshold\n",
       "admiration         0.907      0.000   0.000  0.000  0.000      504       0.05\n",
       "amusement          0.951      0.000   0.000  0.000  0.000      264       0.05\n",
       "anger              0.964      0.000   0.000  0.000  0.000      198       0.05\n",
       "annoyance          0.941      0.000   0.000  0.000  0.000      320       0.05\n",
       "approval           0.935      0.000   0.000  0.000  0.000      351       0.05\n",
       "caring             0.975      0.000   0.000  0.000  0.000      135       0.05\n",
       "confusion          0.972      0.000   0.000  0.000  0.000      153       0.05\n",
       "curiosity          0.948      0.000   0.000  0.000  0.000      284       0.05\n",
       "desire             0.985      0.000   0.000  0.000  0.000       83       0.05\n",
       "disappointment     0.972      0.000   0.000  0.000  0.000      151       0.05\n",
       "disapproval        0.951      0.000   0.000  0.000  0.000      267       0.05\n",
       "disgust            0.977      0.000   0.000  0.000  0.000      123       0.05\n",
       "embarrassment      0.993      0.000   0.000  0.000  0.000       37       0.05\n",
       "excitement         0.981      0.000   0.000  0.000  0.000      103       0.05\n",
       "fear               0.986      0.000   0.000  0.000  0.000       78       0.05\n",
       "gratitude          0.935      0.000   0.000  0.000  0.000      352       0.05\n",
       "grief              0.999      0.000   0.000  0.000  0.000        6       0.05\n",
       "joy                0.970      0.000   0.000  0.000  0.000      161       0.05\n",
       "love               0.956      0.000   0.000  0.000  0.000      238       0.05\n",
       "nervousness        0.996      0.000   0.000  0.000  0.000       23       0.05\n",
       "optimism           0.966      0.000   0.000  0.000  0.000      186       0.05\n",
       "pride              0.997      0.000   0.000  0.000  0.000       16       0.05\n",
       "realization        0.973      0.000   0.000  0.000  0.000      145       0.05\n",
       "relief             0.998      0.000   0.000  0.000  0.000       11       0.05\n",
       "remorse            0.990      0.000   0.000  0.000  0.000       56       0.05\n",
       "sadness            0.971      0.000   0.000  0.000  0.000      156       0.05\n",
       "surprise           0.974      0.000   0.000  0.000  0.000      141       0.05\n",
       "neutral            0.402      0.325   0.755  0.454 -0.018     1787       0.05"
      ]
     },
     "metadata": {},
     "output_type": "display_data"
    }
   ],
   "source": [
    "metric_name = \"f1\"\n",
    "best = {label: {metric_name: -1, \"result\": None} for label in labels}\n",
    "for threshold, results in threshold_results.items():\n",
    "    for result in results:\n",
    "        label = result[\"label\"]\n",
    "        if result[metric_name] > best[label][metric_name]:\n",
    "            best[label] = {metric_name: result[metric_name], \"result\": result}\n",
    "\n",
    "results = [b[\"result\"] for b in best.values()]\n",
    "per_label_threshold_results = pd.DataFrame(results, index=[result[\"label\"] for result in results])\n",
    "display(per_label_threshold_results.drop(columns=[\"label\"]).round(3))"
   ]
  },
  {
   "cell_type": "markdown",
   "metadata": {},
   "source": [
    "Charting it"
   ]
  },
  {
   "cell_type": "code",
   "execution_count": null,
   "metadata": {},
   "outputs": [
    {
     "data": {
      "image/png": "[encoded data removed]",
      "text/plain": [
       "<Figure size 1100x300 with 1 Axes>"
      ]
     },
     "metadata": {},
     "output_type": "display_data"
    }
   ],
   "source": [
    "per_label_threshold_results[\"label (support)\"] = (\n",
    "    per_label_threshold_results[\"label\"] + \" (\" + per_label_threshold_results[\"support\"].astype(str) + \")\"\n",
    ")\n",
    "ax = per_label_threshold_results.sort_values(by=\"support\").plot.bar(\n",
    "    x='label (support)',\n",
    "    y=[\"f1\", \"threshold\"],\n",
    "    rot=90,\n",
    "    title=\"F1 (sorted by label support) @ threshold for max f1\",\n",
    "    width=0.7,\n",
    "    figsize=(11,3),\n",
    ")\n",
    "ax.tick_params(axis='x', which='major', labelsize=8)\n",
    "ax.axes.xaxis.label.set_text(f\"label (support, in {split_name} split)\")\n",
    "plt.show()"
   ]
  },
  {
   "cell_type": "markdown",
   "metadata": {},
   "source": [
    "Note how the best performing threshold (when measured by maximizing f1) is always a lower threshold than the 0.5 assumed before. This is likely because there are so mny true negatives in the dataset (as is often the case with multi-label, multi-class datasets).\n",
    "\n",
    "As you'd expect precision takes a dip vs before as the model is predicting positive more often, but to a lesser degree than recall climbs, causing F1 to overall increase (since F1 is the harmonic mean of precision and recall).\n",
    "\n",
    "The most extreme examples being the labels with the smallest support (e.g. grief) where the smallest threshold tried (0.05) is the one that cajoles the model into finally giving some positives and hence getting valid precision and recall scores that can't do if they never predict positive.\n",
    "\n",
    "Various techniques could be used to increase the probas so these low thresholds were not the best, such as boosting/duplicating the true positives in the training set, data augmentation, or a linear layer to boost the proba output, but simply using a label-bespoke threshold here gives us a view of the perf of the model as it is. "
   ]
  },
  {
   "cell_type": "code",
   "execution_count": null,
   "metadata": {},
   "outputs": [
    {
     "data": {
      "image/png": "[encoded data removed]",
      "text/plain": [
       "<Figure size 700x300 with 1 Axes>"
      ]
     },
     "metadata": {},
     "output_type": "display_data"
    }
   ],
   "source": [
    "_label_name = \"anger\"\n",
    "label_per_threshold_results = []\n",
    "for threshold, results in threshold_results.items():\n",
    "    for result in results:\n",
    "        if result[\"label\"] == _label_name:\n",
    "            label_per_threshold_results.append(result)\n",
    "\n",
    "label_per_threshold_results = pd.DataFrame(\n",
    "    label_per_threshold_results, index=[r[\"threshold\"] for r in label_per_threshold_results]\n",
    ")\n",
    "ax = label_per_threshold_results.plot.line(\n",
    "    x=\"threshold\", y=[\"precision\", \"recall\", \"f1\"], rot=90, title=_label_name, figsize=(7,3)\n",
    ")\n",
    "ax.axvline(0.5, color='gray', linestyle='--')\n",
    "ax.axhline(label_per_threshold_results[\"f1\"].max(), color=\"gray\", linestyle=\"--\")\n",
    "ax.xaxis.set_ticks(np.arange(0, 1, 0.05))\n",
    "plt.show()"
   ]
  },
  {
   "cell_type": "code",
   "execution_count": null,
   "metadata": {},
   "outputs": [
    {
     "name": "stdout",
     "output_type": "stream",
     "text": [
      "### Threshold set to arbitary 0.5\n",
      "Simple mean of labels: {'precision': 0.042, 'recall': 0.56, 'f1': 0.074, 'mcc': 0.003}\n",
      "Weighted average (using support): {'precision': 0.127, 'recall': 0.754, 'f1': 0.202, 'mcc': 0.003}\n",
      "\n",
      "### Threshold from per label search (for best F1 score)\n",
      "Simple mean of labels: {'precision': 0.012, 'recall': 0.027, 'f1': 0.016, 'mcc': -0.001}\n",
      "Weighted average (using support): {'precision': 0.092, 'recall': 0.213, 'f1': 0.128, 'mcc': -0.005}\n",
      "\n",
      "F1 (simple mean) improved by -78.4%\n",
      "F1 (weighted) improved by -100.0%\n"
     ]
    }
   ],
   "source": [
    "print(\"### Threshold set to arbitary 0.5\")\n",
    "_before = dataset_wide_metrics(per_label_results)\n",
    "print()\n",
    "print(\"### Threshold from per label search (for best F1 score)\")\n",
    "_after = dataset_wide_metrics(per_label_threshold_results)\n",
    "\n",
    "print()\n",
    "percentage = (_after[0][\"f1\"] - _before[0][\"f1\"]) / _before[0][\"f1\"] * 100\n",
    "print(f\"F1 (simple mean) improved by {round(percentage, 1)}%\")\n",
    "percentage = (_after[1][\"f1\"] - _before[1][\"f1\"]) / _before[0][\"f1\"] * 100\n",
    "print(f\"F1 (weighted) improved by {round(percentage, 1)}%\")"
   ]
  },
  {
   "cell_type": "markdown",
   "metadata": {},
   "source": [
    "### Dataset constraints on the model performance"
   ]
  },
  {
   "cell_type": "markdown",
   "metadata": {},
   "source": [
    "Some labels (E.g. gratitude) when considered independently perform very strongly with F1 around 0.9, whilst others (E.g. relief) perform very poorly. \n",
    "\n",
    "This is a challenging dataset. Labels such as relief do have much fewer examples in the training data (less than 100 out of the 40k+, and only 11 in the test split).\n",
    "\n",
    "But there is also some ambiguity and/or labelling errors visible in the training data of go_emotions that is suspected to constrain the performance. Data cleaning on the dataset to reduce some of the mistakes, ambiguity, conflicts and duplication in the labelling would produce a higher performing model."
   ]
  }
 ],
 "metadata": {
  "kernelspec": {
   "display_name": "Python 3",
   "language": "python",
   "name": "python3"
  },
  "language_info": {
   "codemirror_mode": {
    "name": "ipython",
    "version": 3
   },
   "file_extension": ".py",
   "mimetype": "text/x-python",
   "name": "python",
   "nbconvert_exporter": "python",
   "pygments_lexer": "ipython3",
   "version": "3.11.9"
  },
  "orig_nbformat": 4
 },
 "nbformat": 4,
 "nbformat_minor": 2
}
